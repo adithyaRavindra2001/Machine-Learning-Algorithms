{
 "cells": [
  {
   "cell_type": "code",
   "execution_count": 4,
   "id": "8a1d6726",
   "metadata": {},
   "outputs": [],
   "source": [
    "from sklearn.datasets import load_breast_cancer\n",
    "import pandas as pd"
   ]
  },
  {
   "cell_type": "code",
   "execution_count": 5,
   "id": "ae980db0",
   "metadata": {},
   "outputs": [],
   "source": [
    "cancer=load_breast_cancer()"
   ]
  },
  {
   "cell_type": "code",
   "execution_count": 47,
   "id": "a417d245",
   "metadata": {},
   "outputs": [
    {
     "name": "stdout",
     "output_type": "stream",
     "text": [
      "cancer.keys/n {'data': array([[1.799e+01, 1.038e+01, 1.228e+02, ..., 2.654e-01, 4.601e-01,\n",
      "        1.189e-01],\n",
      "       [2.057e+01, 1.777e+01, 1.329e+02, ..., 1.860e-01, 2.750e-01,\n",
      "        8.902e-02],\n",
      "       [1.969e+01, 2.125e+01, 1.300e+02, ..., 2.430e-01, 3.613e-01,\n",
      "        8.758e-02],\n",
      "       ...,\n",
      "       [1.660e+01, 2.808e+01, 1.083e+02, ..., 1.418e-01, 2.218e-01,\n",
      "        7.820e-02],\n",
      "       [2.060e+01, 2.933e+01, 1.401e+02, ..., 2.650e-01, 4.087e-01,\n",
      "        1.240e-01],\n",
      "       [7.760e+00, 2.454e+01, 4.792e+01, ..., 0.000e+00, 2.871e-01,\n",
      "        7.039e-02]]), 'target': array([0, 0, 0, 0, 0, 0, 0, 0, 0, 0, 0, 0, 0, 0, 0, 0, 0, 0, 0, 1, 1, 1,\n",
      "       0, 0, 0, 0, 0, 0, 0, 0, 0, 0, 0, 0, 0, 0, 0, 1, 0, 0, 0, 0, 0, 0,\n",
      "       0, 0, 1, 0, 1, 1, 1, 1, 1, 0, 0, 1, 0, 0, 1, 1, 1, 1, 0, 1, 0, 0,\n",
      "       1, 1, 1, 1, 0, 1, 0, 0, 1, 0, 1, 0, 0, 1, 1, 1, 0, 0, 1, 0, 0, 0,\n",
      "       1, 1, 1, 0, 1, 1, 0, 0, 1, 1, 1, 0, 0, 1, 1, 1, 1, 0, 1, 1, 0, 1,\n",
      "       1, 1, 1, 1, 1, 1, 1, 0, 0, 0, 1, 0, 0, 1, 1, 1, 0, 0, 1, 0, 1, 0,\n",
      "       0, 1, 0, 0, 1, 1, 0, 1, 1, 0, 1, 1, 1, 1, 0, 1, 1, 1, 1, 1, 1, 1,\n",
      "       1, 1, 0, 1, 1, 1, 1, 0, 0, 1, 0, 1, 1, 0, 0, 1, 1, 0, 0, 1, 1, 1,\n",
      "       1, 0, 1, 1, 0, 0, 0, 1, 0, 1, 0, 1, 1, 1, 0, 1, 1, 0, 0, 1, 0, 0,\n",
      "       0, 0, 1, 0, 0, 0, 1, 0, 1, 0, 1, 1, 0, 1, 0, 0, 0, 0, 1, 1, 0, 0,\n",
      "       1, 1, 1, 0, 1, 1, 1, 1, 1, 0, 0, 1, 1, 0, 1, 1, 0, 0, 1, 0, 1, 1,\n",
      "       1, 1, 0, 1, 1, 1, 1, 1, 0, 1, 0, 0, 0, 0, 0, 0, 0, 0, 0, 0, 0, 0,\n",
      "       0, 0, 1, 1, 1, 1, 1, 1, 0, 1, 0, 1, 1, 0, 1, 1, 0, 1, 0, 0, 1, 1,\n",
      "       1, 1, 1, 1, 1, 1, 1, 1, 1, 1, 1, 0, 1, 1, 0, 1, 0, 1, 1, 1, 1, 1,\n",
      "       1, 1, 1, 1, 1, 1, 1, 1, 1, 0, 1, 1, 1, 0, 1, 0, 1, 1, 1, 1, 0, 0,\n",
      "       0, 1, 1, 1, 1, 0, 1, 0, 1, 0, 1, 1, 1, 0, 1, 1, 1, 1, 1, 1, 1, 0,\n",
      "       0, 0, 1, 1, 1, 1, 1, 1, 1, 1, 1, 1, 1, 0, 0, 1, 0, 0, 0, 1, 0, 0,\n",
      "       1, 1, 1, 1, 1, 0, 1, 1, 1, 1, 1, 0, 1, 1, 1, 0, 1, 1, 0, 0, 1, 1,\n",
      "       1, 1, 1, 1, 0, 1, 1, 1, 1, 1, 1, 1, 0, 1, 1, 1, 1, 1, 0, 1, 1, 0,\n",
      "       1, 1, 1, 1, 1, 1, 1, 1, 1, 1, 1, 1, 0, 1, 0, 0, 1, 0, 1, 1, 1, 1,\n",
      "       1, 0, 1, 1, 0, 1, 0, 1, 1, 0, 1, 0, 1, 1, 1, 1, 1, 1, 1, 1, 0, 0,\n",
      "       1, 1, 1, 1, 1, 1, 0, 1, 1, 1, 1, 1, 1, 1, 1, 1, 1, 0, 1, 1, 1, 1,\n",
      "       1, 1, 1, 0, 1, 0, 1, 1, 0, 1, 1, 1, 1, 1, 0, 0, 1, 0, 1, 0, 1, 1,\n",
      "       1, 1, 1, 0, 1, 1, 0, 1, 0, 1, 0, 0, 1, 1, 1, 0, 1, 1, 1, 1, 1, 1,\n",
      "       1, 1, 1, 1, 1, 0, 1, 0, 0, 1, 1, 1, 1, 1, 1, 1, 1, 1, 1, 1, 1, 1,\n",
      "       1, 1, 1, 1, 1, 1, 1, 1, 1, 1, 1, 1, 0, 0, 0, 0, 0, 0, 1]), 'frame': None, 'target_names': array(['malignant', 'benign'], dtype='<U9'), 'DESCR': '.. _breast_cancer_dataset:\\n\\nBreast cancer wisconsin (diagnostic) dataset\\n--------------------------------------------\\n\\n**Data Set Characteristics:**\\n\\n    :Number of Instances: 569\\n\\n    :Number of Attributes: 30 numeric, predictive attributes and the class\\n\\n    :Attribute Information:\\n        - radius (mean of distances from center to points on the perimeter)\\n        - texture (standard deviation of gray-scale values)\\n        - perimeter\\n        - area\\n        - smoothness (local variation in radius lengths)\\n        - compactness (perimeter^2 / area - 1.0)\\n        - concavity (severity of concave portions of the contour)\\n        - concave points (number of concave portions of the contour)\\n        - symmetry\\n        - fractal dimension (\"coastline approximation\" - 1)\\n\\n        The mean, standard error, and \"worst\" or largest (mean of the three\\n        worst/largest values) of these features were computed for each image,\\n        resulting in 30 features.  For instance, field 0 is Mean Radius, field\\n        10 is Radius SE, field 20 is Worst Radius.\\n\\n        - class:\\n                - WDBC-Malignant\\n                - WDBC-Benign\\n\\n    :Summary Statistics:\\n\\n    ===================================== ====== ======\\n                                           Min    Max\\n    ===================================== ====== ======\\n    radius (mean):                        6.981  28.11\\n    texture (mean):                       9.71   39.28\\n    perimeter (mean):                     43.79  188.5\\n    area (mean):                          143.5  2501.0\\n    smoothness (mean):                    0.053  0.163\\n    compactness (mean):                   0.019  0.345\\n    concavity (mean):                     0.0    0.427\\n    concave points (mean):                0.0    0.201\\n    symmetry (mean):                      0.106  0.304\\n    fractal dimension (mean):             0.05   0.097\\n    radius (standard error):              0.112  2.873\\n    texture (standard error):             0.36   4.885\\n    perimeter (standard error):           0.757  21.98\\n    area (standard error):                6.802  542.2\\n    smoothness (standard error):          0.002  0.031\\n    compactness (standard error):         0.002  0.135\\n    concavity (standard error):           0.0    0.396\\n    concave points (standard error):      0.0    0.053\\n    symmetry (standard error):            0.008  0.079\\n    fractal dimension (standard error):   0.001  0.03\\n    radius (worst):                       7.93   36.04\\n    texture (worst):                      12.02  49.54\\n    perimeter (worst):                    50.41  251.2\\n    area (worst):                         185.2  4254.0\\n    smoothness (worst):                   0.071  0.223\\n    compactness (worst):                  0.027  1.058\\n    concavity (worst):                    0.0    1.252\\n    concave points (worst):               0.0    0.291\\n    symmetry (worst):                     0.156  0.664\\n    fractal dimension (worst):            0.055  0.208\\n    ===================================== ====== ======\\n\\n    :Missing Attribute Values: None\\n\\n    :Class Distribution: 212 - Malignant, 357 - Benign\\n\\n    :Creator:  Dr. William H. Wolberg, W. Nick Street, Olvi L. Mangasarian\\n\\n    :Donor: Nick Street\\n\\n    :Date: November, 1995\\n\\nThis is a copy of UCI ML Breast Cancer Wisconsin (Diagnostic) datasets.\\nhttps://goo.gl/U2Uwz2\\n\\nFeatures are computed from a digitized image of a fine needle\\naspirate (FNA) of a breast mass.  They describe\\ncharacteristics of the cell nuclei present in the image.\\n\\nSeparating plane described above was obtained using\\nMultisurface Method-Tree (MSM-T) [K. P. Bennett, \"Decision Tree\\nConstruction Via Linear Programming.\" Proceedings of the 4th\\nMidwest Artificial Intelligence and Cognitive Science Society,\\npp. 97-101, 1992], a classification method which uses linear\\nprogramming to construct a decision tree.  Relevant features\\nwere selected using an exhaustive search in the space of 1-4\\nfeatures and 1-3 separating planes.\\n\\nThe actual linear program used to obtain the separating plane\\nin the 3-dimensional space is that described in:\\n[K. P. Bennett and O. L. Mangasarian: \"Robust Linear\\nProgramming Discrimination of Two Linearly Inseparable Sets\",\\nOptimization Methods and Software 1, 1992, 23-34].\\n\\nThis database is also available through the UW CS ftp server:\\n\\nftp ftp.cs.wisc.edu\\ncd math-prog/cpo-dataset/machine-learn/WDBC/\\n\\n.. topic:: References\\n\\n   - W.N. Street, W.H. Wolberg and O.L. Mangasarian. Nuclear feature extraction \\n     for breast tumor diagnosis. IS&T/SPIE 1993 International Symposium on \\n     Electronic Imaging: Science and Technology, volume 1905, pages 861-870,\\n     San Jose, CA, 1993.\\n   - O.L. Mangasarian, W.N. Street and W.H. Wolberg. Breast cancer diagnosis and \\n     prognosis via linear programming. Operations Research, 43(4), pages 570-577, \\n     July-August 1995.\\n   - W.H. Wolberg, W.N. Street, and O.L. Mangasarian. Machine learning techniques\\n     to diagnose breast cancer from fine-needle aspirates. Cancer Letters 77 (1994) \\n     163-171.', 'feature_names': array(['mean radius', 'mean texture', 'mean perimeter', 'mean area',\n",
      "       'mean smoothness', 'mean compactness', 'mean concavity',\n",
      "       'mean concave points', 'mean symmetry', 'mean fractal dimension',\n",
      "       'radius error', 'texture error', 'perimeter error', 'area error',\n",
      "       'smoothness error', 'compactness error', 'concavity error',\n",
      "       'concave points error', 'symmetry error',\n",
      "       'fractal dimension error', 'worst radius', 'worst texture',\n",
      "       'worst perimeter', 'worst area', 'worst smoothness',\n",
      "       'worst compactness', 'worst concavity', 'worst concave points',\n",
      "       'worst symmetry', 'worst fractal dimension'], dtype='<U23'), 'filename': 'breast_cancer.csv', 'data_module': 'sklearn.datasets.data'}\n"
     ]
    }
   ],
   "source": [
    "print(\"cancer.keys/n {}\".format(cancer))"
   ]
  },
  {
   "cell_type": "code",
   "execution_count": 11,
   "id": "e37b74ad",
   "metadata": {},
   "outputs": [],
   "source": [
    "x,y=cancer['data'][:10],cancer['feature_names']"
   ]
  },
  {
   "cell_type": "code",
   "execution_count": 15,
   "id": "5d22b901",
   "metadata": {},
   "outputs": [],
   "source": [
    "df=pd.DataFrame(x,columns=y)"
   ]
  },
  {
   "cell_type": "code",
   "execution_count": 16,
   "id": "ffc435b5",
   "metadata": {},
   "outputs": [
    {
     "data": {
      "text/html": [
       "<div>\n",
       "<style scoped>\n",
       "    .dataframe tbody tr th:only-of-type {\n",
       "        vertical-align: middle;\n",
       "    }\n",
       "\n",
       "    .dataframe tbody tr th {\n",
       "        vertical-align: top;\n",
       "    }\n",
       "\n",
       "    .dataframe thead th {\n",
       "        text-align: right;\n",
       "    }\n",
       "</style>\n",
       "<table border=\"1\" class=\"dataframe\">\n",
       "  <thead>\n",
       "    <tr style=\"text-align: right;\">\n",
       "      <th></th>\n",
       "      <th>mean radius</th>\n",
       "      <th>mean texture</th>\n",
       "      <th>mean perimeter</th>\n",
       "      <th>mean area</th>\n",
       "      <th>mean smoothness</th>\n",
       "      <th>mean compactness</th>\n",
       "      <th>mean concavity</th>\n",
       "      <th>mean concave points</th>\n",
       "      <th>mean symmetry</th>\n",
       "      <th>mean fractal dimension</th>\n",
       "      <th>...</th>\n",
       "      <th>worst radius</th>\n",
       "      <th>worst texture</th>\n",
       "      <th>worst perimeter</th>\n",
       "      <th>worst area</th>\n",
       "      <th>worst smoothness</th>\n",
       "      <th>worst compactness</th>\n",
       "      <th>worst concavity</th>\n",
       "      <th>worst concave points</th>\n",
       "      <th>worst symmetry</th>\n",
       "      <th>worst fractal dimension</th>\n",
       "    </tr>\n",
       "  </thead>\n",
       "  <tbody>\n",
       "    <tr>\n",
       "      <th>0</th>\n",
       "      <td>17.99</td>\n",
       "      <td>10.38</td>\n",
       "      <td>122.80</td>\n",
       "      <td>1001.0</td>\n",
       "      <td>0.11840</td>\n",
       "      <td>0.27760</td>\n",
       "      <td>0.30010</td>\n",
       "      <td>0.14710</td>\n",
       "      <td>0.2419</td>\n",
       "      <td>0.07871</td>\n",
       "      <td>...</td>\n",
       "      <td>25.38</td>\n",
       "      <td>17.33</td>\n",
       "      <td>184.60</td>\n",
       "      <td>2019.0</td>\n",
       "      <td>0.1622</td>\n",
       "      <td>0.6656</td>\n",
       "      <td>0.7119</td>\n",
       "      <td>0.2654</td>\n",
       "      <td>0.4601</td>\n",
       "      <td>0.11890</td>\n",
       "    </tr>\n",
       "    <tr>\n",
       "      <th>1</th>\n",
       "      <td>20.57</td>\n",
       "      <td>17.77</td>\n",
       "      <td>132.90</td>\n",
       "      <td>1326.0</td>\n",
       "      <td>0.08474</td>\n",
       "      <td>0.07864</td>\n",
       "      <td>0.08690</td>\n",
       "      <td>0.07017</td>\n",
       "      <td>0.1812</td>\n",
       "      <td>0.05667</td>\n",
       "      <td>...</td>\n",
       "      <td>24.99</td>\n",
       "      <td>23.41</td>\n",
       "      <td>158.80</td>\n",
       "      <td>1956.0</td>\n",
       "      <td>0.1238</td>\n",
       "      <td>0.1866</td>\n",
       "      <td>0.2416</td>\n",
       "      <td>0.1860</td>\n",
       "      <td>0.2750</td>\n",
       "      <td>0.08902</td>\n",
       "    </tr>\n",
       "    <tr>\n",
       "      <th>2</th>\n",
       "      <td>19.69</td>\n",
       "      <td>21.25</td>\n",
       "      <td>130.00</td>\n",
       "      <td>1203.0</td>\n",
       "      <td>0.10960</td>\n",
       "      <td>0.15990</td>\n",
       "      <td>0.19740</td>\n",
       "      <td>0.12790</td>\n",
       "      <td>0.2069</td>\n",
       "      <td>0.05999</td>\n",
       "      <td>...</td>\n",
       "      <td>23.57</td>\n",
       "      <td>25.53</td>\n",
       "      <td>152.50</td>\n",
       "      <td>1709.0</td>\n",
       "      <td>0.1444</td>\n",
       "      <td>0.4245</td>\n",
       "      <td>0.4504</td>\n",
       "      <td>0.2430</td>\n",
       "      <td>0.3613</td>\n",
       "      <td>0.08758</td>\n",
       "    </tr>\n",
       "    <tr>\n",
       "      <th>3</th>\n",
       "      <td>11.42</td>\n",
       "      <td>20.38</td>\n",
       "      <td>77.58</td>\n",
       "      <td>386.1</td>\n",
       "      <td>0.14250</td>\n",
       "      <td>0.28390</td>\n",
       "      <td>0.24140</td>\n",
       "      <td>0.10520</td>\n",
       "      <td>0.2597</td>\n",
       "      <td>0.09744</td>\n",
       "      <td>...</td>\n",
       "      <td>14.91</td>\n",
       "      <td>26.50</td>\n",
       "      <td>98.87</td>\n",
       "      <td>567.7</td>\n",
       "      <td>0.2098</td>\n",
       "      <td>0.8663</td>\n",
       "      <td>0.6869</td>\n",
       "      <td>0.2575</td>\n",
       "      <td>0.6638</td>\n",
       "      <td>0.17300</td>\n",
       "    </tr>\n",
       "    <tr>\n",
       "      <th>4</th>\n",
       "      <td>20.29</td>\n",
       "      <td>14.34</td>\n",
       "      <td>135.10</td>\n",
       "      <td>1297.0</td>\n",
       "      <td>0.10030</td>\n",
       "      <td>0.13280</td>\n",
       "      <td>0.19800</td>\n",
       "      <td>0.10430</td>\n",
       "      <td>0.1809</td>\n",
       "      <td>0.05883</td>\n",
       "      <td>...</td>\n",
       "      <td>22.54</td>\n",
       "      <td>16.67</td>\n",
       "      <td>152.20</td>\n",
       "      <td>1575.0</td>\n",
       "      <td>0.1374</td>\n",
       "      <td>0.2050</td>\n",
       "      <td>0.4000</td>\n",
       "      <td>0.1625</td>\n",
       "      <td>0.2364</td>\n",
       "      <td>0.07678</td>\n",
       "    </tr>\n",
       "    <tr>\n",
       "      <th>5</th>\n",
       "      <td>12.45</td>\n",
       "      <td>15.70</td>\n",
       "      <td>82.57</td>\n",
       "      <td>477.1</td>\n",
       "      <td>0.12780</td>\n",
       "      <td>0.17000</td>\n",
       "      <td>0.15780</td>\n",
       "      <td>0.08089</td>\n",
       "      <td>0.2087</td>\n",
       "      <td>0.07613</td>\n",
       "      <td>...</td>\n",
       "      <td>15.47</td>\n",
       "      <td>23.75</td>\n",
       "      <td>103.40</td>\n",
       "      <td>741.6</td>\n",
       "      <td>0.1791</td>\n",
       "      <td>0.5249</td>\n",
       "      <td>0.5355</td>\n",
       "      <td>0.1741</td>\n",
       "      <td>0.3985</td>\n",
       "      <td>0.12440</td>\n",
       "    </tr>\n",
       "    <tr>\n",
       "      <th>6</th>\n",
       "      <td>18.25</td>\n",
       "      <td>19.98</td>\n",
       "      <td>119.60</td>\n",
       "      <td>1040.0</td>\n",
       "      <td>0.09463</td>\n",
       "      <td>0.10900</td>\n",
       "      <td>0.11270</td>\n",
       "      <td>0.07400</td>\n",
       "      <td>0.1794</td>\n",
       "      <td>0.05742</td>\n",
       "      <td>...</td>\n",
       "      <td>22.88</td>\n",
       "      <td>27.66</td>\n",
       "      <td>153.20</td>\n",
       "      <td>1606.0</td>\n",
       "      <td>0.1442</td>\n",
       "      <td>0.2576</td>\n",
       "      <td>0.3784</td>\n",
       "      <td>0.1932</td>\n",
       "      <td>0.3063</td>\n",
       "      <td>0.08368</td>\n",
       "    </tr>\n",
       "    <tr>\n",
       "      <th>7</th>\n",
       "      <td>13.71</td>\n",
       "      <td>20.83</td>\n",
       "      <td>90.20</td>\n",
       "      <td>577.9</td>\n",
       "      <td>0.11890</td>\n",
       "      <td>0.16450</td>\n",
       "      <td>0.09366</td>\n",
       "      <td>0.05985</td>\n",
       "      <td>0.2196</td>\n",
       "      <td>0.07451</td>\n",
       "      <td>...</td>\n",
       "      <td>17.06</td>\n",
       "      <td>28.14</td>\n",
       "      <td>110.60</td>\n",
       "      <td>897.0</td>\n",
       "      <td>0.1654</td>\n",
       "      <td>0.3682</td>\n",
       "      <td>0.2678</td>\n",
       "      <td>0.1556</td>\n",
       "      <td>0.3196</td>\n",
       "      <td>0.11510</td>\n",
       "    </tr>\n",
       "    <tr>\n",
       "      <th>8</th>\n",
       "      <td>13.00</td>\n",
       "      <td>21.82</td>\n",
       "      <td>87.50</td>\n",
       "      <td>519.8</td>\n",
       "      <td>0.12730</td>\n",
       "      <td>0.19320</td>\n",
       "      <td>0.18590</td>\n",
       "      <td>0.09353</td>\n",
       "      <td>0.2350</td>\n",
       "      <td>0.07389</td>\n",
       "      <td>...</td>\n",
       "      <td>15.49</td>\n",
       "      <td>30.73</td>\n",
       "      <td>106.20</td>\n",
       "      <td>739.3</td>\n",
       "      <td>0.1703</td>\n",
       "      <td>0.5401</td>\n",
       "      <td>0.5390</td>\n",
       "      <td>0.2060</td>\n",
       "      <td>0.4378</td>\n",
       "      <td>0.10720</td>\n",
       "    </tr>\n",
       "    <tr>\n",
       "      <th>9</th>\n",
       "      <td>12.46</td>\n",
       "      <td>24.04</td>\n",
       "      <td>83.97</td>\n",
       "      <td>475.9</td>\n",
       "      <td>0.11860</td>\n",
       "      <td>0.23960</td>\n",
       "      <td>0.22730</td>\n",
       "      <td>0.08543</td>\n",
       "      <td>0.2030</td>\n",
       "      <td>0.08243</td>\n",
       "      <td>...</td>\n",
       "      <td>15.09</td>\n",
       "      <td>40.68</td>\n",
       "      <td>97.65</td>\n",
       "      <td>711.4</td>\n",
       "      <td>0.1853</td>\n",
       "      <td>1.0580</td>\n",
       "      <td>1.1050</td>\n",
       "      <td>0.2210</td>\n",
       "      <td>0.4366</td>\n",
       "      <td>0.20750</td>\n",
       "    </tr>\n",
       "  </tbody>\n",
       "</table>\n",
       "<p>10 rows × 30 columns</p>\n",
       "</div>"
      ],
      "text/plain": [
       "   mean radius  mean texture  mean perimeter  mean area  mean smoothness  \\\n",
       "0        17.99         10.38          122.80     1001.0          0.11840   \n",
       "1        20.57         17.77          132.90     1326.0          0.08474   \n",
       "2        19.69         21.25          130.00     1203.0          0.10960   \n",
       "3        11.42         20.38           77.58      386.1          0.14250   \n",
       "4        20.29         14.34          135.10     1297.0          0.10030   \n",
       "5        12.45         15.70           82.57      477.1          0.12780   \n",
       "6        18.25         19.98          119.60     1040.0          0.09463   \n",
       "7        13.71         20.83           90.20      577.9          0.11890   \n",
       "8        13.00         21.82           87.50      519.8          0.12730   \n",
       "9        12.46         24.04           83.97      475.9          0.11860   \n",
       "\n",
       "   mean compactness  mean concavity  mean concave points  mean symmetry  \\\n",
       "0           0.27760         0.30010              0.14710         0.2419   \n",
       "1           0.07864         0.08690              0.07017         0.1812   \n",
       "2           0.15990         0.19740              0.12790         0.2069   \n",
       "3           0.28390         0.24140              0.10520         0.2597   \n",
       "4           0.13280         0.19800              0.10430         0.1809   \n",
       "5           0.17000         0.15780              0.08089         0.2087   \n",
       "6           0.10900         0.11270              0.07400         0.1794   \n",
       "7           0.16450         0.09366              0.05985         0.2196   \n",
       "8           0.19320         0.18590              0.09353         0.2350   \n",
       "9           0.23960         0.22730              0.08543         0.2030   \n",
       "\n",
       "   mean fractal dimension  ...  worst radius  worst texture  worst perimeter  \\\n",
       "0                 0.07871  ...         25.38          17.33           184.60   \n",
       "1                 0.05667  ...         24.99          23.41           158.80   \n",
       "2                 0.05999  ...         23.57          25.53           152.50   \n",
       "3                 0.09744  ...         14.91          26.50            98.87   \n",
       "4                 0.05883  ...         22.54          16.67           152.20   \n",
       "5                 0.07613  ...         15.47          23.75           103.40   \n",
       "6                 0.05742  ...         22.88          27.66           153.20   \n",
       "7                 0.07451  ...         17.06          28.14           110.60   \n",
       "8                 0.07389  ...         15.49          30.73           106.20   \n",
       "9                 0.08243  ...         15.09          40.68            97.65   \n",
       "\n",
       "   worst area  worst smoothness  worst compactness  worst concavity  \\\n",
       "0      2019.0            0.1622             0.6656           0.7119   \n",
       "1      1956.0            0.1238             0.1866           0.2416   \n",
       "2      1709.0            0.1444             0.4245           0.4504   \n",
       "3       567.7            0.2098             0.8663           0.6869   \n",
       "4      1575.0            0.1374             0.2050           0.4000   \n",
       "5       741.6            0.1791             0.5249           0.5355   \n",
       "6      1606.0            0.1442             0.2576           0.3784   \n",
       "7       897.0            0.1654             0.3682           0.2678   \n",
       "8       739.3            0.1703             0.5401           0.5390   \n",
       "9       711.4            0.1853             1.0580           1.1050   \n",
       "\n",
       "   worst concave points  worst symmetry  worst fractal dimension  \n",
       "0                0.2654          0.4601                  0.11890  \n",
       "1                0.1860          0.2750                  0.08902  \n",
       "2                0.2430          0.3613                  0.08758  \n",
       "3                0.2575          0.6638                  0.17300  \n",
       "4                0.1625          0.2364                  0.07678  \n",
       "5                0.1741          0.3985                  0.12440  \n",
       "6                0.1932          0.3063                  0.08368  \n",
       "7                0.1556          0.3196                  0.11510  \n",
       "8                0.2060          0.4378                  0.10720  \n",
       "9                0.2210          0.4366                  0.20750  \n",
       "\n",
       "[10 rows x 30 columns]"
      ]
     },
     "metadata": {},
     "output_type": "display_data"
    }
   ],
   "source": [
    "display(df)"
   ]
  },
  {
   "cell_type": "code",
   "execution_count": 22,
   "id": "529183ee",
   "metadata": {},
   "outputs": [
    {
     "name": "stdout",
     "output_type": "stream",
     "text": [
      "sample count \n",
      " {'malignant': 212, 'benign': 357}\n"
     ]
    }
   ],
   "source": [
    "import numpy as np\n",
    "print(\"sample count \\n {}\".format({n:v for n,v in zip(cancer.target_names, np.bincount(cancer.target))}))"
   ]
  },
  {
   "cell_type": "code",
   "execution_count": 23,
   "id": "48e32723",
   "metadata": {},
   "outputs": [],
   "source": [
    "import mglearn\n"
   ]
  },
  {
   "cell_type": "code",
   "execution_count": 26,
   "id": "be3c06d4",
   "metadata": {},
   "outputs": [
    {
     "name": "stderr",
     "output_type": "stream",
     "text": [
      "C:\\anaconda\\lib\\site-packages\\sklearn\\utils\\deprecation.py:87: FutureWarning: Function make_blobs is deprecated; Please import make_blobs directly from scikit-learn\n",
      "  warnings.warn(msg, category=FutureWarning)\n"
     ]
    },
    {
     "data": {
      "image/png": "[encoded data removed]",
      "text/plain": [
       "<Figure size 432x288 with 1 Axes>"
      ]
     },
     "metadata": {
      "needs_background": "light"
     },
     "output_type": "display_data"
    }
   ],
   "source": [
    "mglearn.plots.plot_knn_classification(n_neighbors=4)"
   ]
  },
  {
   "cell_type": "code",
   "execution_count": 32,
   "id": "06852ef7",
   "metadata": {},
   "outputs": [],
   "source": [
    "from sklearn.model_selection import train_test_split\n",
    "\n",
    "from sklearn.neighbors import KNeighborsClassifier\n"
   ]
  },
  {
   "cell_type": "code",
   "execution_count": 33,
   "id": "eff8036e",
   "metadata": {},
   "outputs": [
    {
     "name": "stderr",
     "output_type": "stream",
     "text": [
      "C:\\anaconda\\lib\\site-packages\\sklearn\\utils\\deprecation.py:87: FutureWarning: Function make_blobs is deprecated; Please import make_blobs directly from scikit-learn\n",
      "  warnings.warn(msg, category=FutureWarning)\n"
     ]
    }
   ],
   "source": [
    "x,y= mglearn.datasets.make_forge()"
   ]
  },
  {
   "cell_type": "code",
   "execution_count": 34,
   "id": "1af58ac1",
   "metadata": {},
   "outputs": [],
   "source": [
    "xt,xte,yt,yte=train_test_split(x,y,random_state=0)"
   ]
  },
  {
   "cell_type": "code",
   "execution_count": 39,
   "id": "7b554c0a",
   "metadata": {},
   "outputs": [],
   "source": [
    "knn=KNeighborsClassifier(n_neighbors=5)"
   ]
  },
  {
   "cell_type": "code",
   "execution_count": 40,
   "id": "ca5c0735",
   "metadata": {},
   "outputs": [
    {
     "data": {
      "text/html": [
       "<style>#sk-container-id-2 {color: black;background-color: white;}#sk-container-id-2 pre{padding: 0;}#sk-container-id-2 div.sk-toggleable {background-color: white;}#sk-container-id-2 label.sk-toggleable__label {cursor: pointer;display: block;width: 100%;margin-bottom: 0;padding: 0.3em;box-sizing: border-box;text-align: center;}#sk-container-id-2 label.sk-toggleable__label-arrow:before {content: \"▸\";float: left;margin-right: 0.25em;color: #696969;}#sk-container-id-2 label.sk-toggleable__label-arrow:hover:before {color: black;}#sk-container-id-2 div.sk-estimator:hover label.sk-toggleable__label-arrow:before {color: black;}#sk-container-id-2 div.sk-toggleable__content {max-height: 0;max-width: 0;overflow: hidden;text-align: left;background-color: #f0f8ff;}#sk-container-id-2 div.sk-toggleable__content pre {margin: 0.2em;color: black;border-radius: 0.25em;background-color: #f0f8ff;}#sk-container-id-2 input.sk-toggleable__control:checked~div.sk-toggleable__content {max-height: 200px;max-width: 100%;overflow: auto;}#sk-container-id-2 input.sk-toggleable__control:checked~label.sk-toggleable__label-arrow:before {content: \"▾\";}#sk-container-id-2 div.sk-estimator input.sk-toggleable__control:checked~label.sk-toggleable__label {background-color: #d4ebff;}#sk-container-id-2 div.sk-label input.sk-toggleable__control:checked~label.sk-toggleable__label {background-color: #d4ebff;}#sk-container-id-2 input.sk-hidden--visually {border: 0;clip: rect(1px 1px 1px 1px);clip: rect(1px, 1px, 1px, 1px);height: 1px;margin: -1px;overflow: hidden;padding: 0;position: absolute;width: 1px;}#sk-container-id-2 div.sk-estimator {font-family: monospace;background-color: #f0f8ff;border: 1px dotted black;border-radius: 0.25em;box-sizing: border-box;margin-bottom: 0.5em;}#sk-container-id-2 div.sk-estimator:hover {background-color: #d4ebff;}#sk-container-id-2 div.sk-parallel-item::after {content: \"\";width: 100%;border-bottom: 1px solid gray;flex-grow: 1;}#sk-container-id-2 div.sk-label:hover label.sk-toggleable__label {background-color: #d4ebff;}#sk-container-id-2 div.sk-serial::before {content: \"\";position: absolute;border-left: 1px solid gray;box-sizing: border-box;top: 0;bottom: 0;left: 50%;z-index: 0;}#sk-container-id-2 div.sk-serial {display: flex;flex-direction: column;align-items: center;background-color: white;padding-right: 0.2em;padding-left: 0.2em;position: relative;}#sk-container-id-2 div.sk-item {position: relative;z-index: 1;}#sk-container-id-2 div.sk-parallel {display: flex;align-items: stretch;justify-content: center;background-color: white;position: relative;}#sk-container-id-2 div.sk-item::before, #sk-container-id-2 div.sk-parallel-item::before {content: \"\";position: absolute;border-left: 1px solid gray;box-sizing: border-box;top: 0;bottom: 0;left: 50%;z-index: -1;}#sk-container-id-2 div.sk-parallel-item {display: flex;flex-direction: column;z-index: 1;position: relative;background-color: white;}#sk-container-id-2 div.sk-parallel-item:first-child::after {align-self: flex-end;width: 50%;}#sk-container-id-2 div.sk-parallel-item:last-child::after {align-self: flex-start;width: 50%;}#sk-container-id-2 div.sk-parallel-item:only-child::after {width: 0;}#sk-container-id-2 div.sk-dashed-wrapped {border: 1px dashed gray;margin: 0 0.4em 0.5em 0.4em;box-sizing: border-box;padding-bottom: 0.4em;background-color: white;}#sk-container-id-2 div.sk-label label {font-family: monospace;font-weight: bold;display: inline-block;line-height: 1.2em;}#sk-container-id-2 div.sk-label-container {text-align: center;}#sk-container-id-2 div.sk-container {/* jupyter's `normalize.less` sets `[hidden] { display: none; }` but bootstrap.min.css set `[hidden] { display: none !important; }` so we also need the `!important` here to be able to override the default hidden behavior on the sphinx rendered scikit-learn.org. See: https://github.com/scikit-learn/scikit-learn/issues/21755 */display: inline-block !important;position: relative;}#sk-container-id-2 div.sk-text-repr-fallback {display: none;}</style><div id=\"sk-container-id-2\" class=\"sk-top-container\"><div class=\"sk-text-repr-fallback\"><pre>KNeighborsClassifier()</pre><b>In a Jupyter environment, please rerun this cell to show the HTML representation or trust the notebook. <br />On GitHub, the HTML representation is unable to render, please try loading this page with nbviewer.org.</b></div><div class=\"sk-container\" hidden><div class=\"sk-item\"><div class=\"sk-estimator sk-toggleable\"><input class=\"sk-toggleable__control sk-hidden--visually\" id=\"sk-estimator-id-2\" type=\"checkbox\" checked><label for=\"sk-estimator-id-2\" class=\"sk-toggleable__label sk-toggleable__label-arrow\">KNeighborsClassifier</label><div class=\"sk-toggleable__content\"><pre>KNeighborsClassifier()</pre></div></div></div></div></div>"
      ],
      "text/plain": [
       "KNeighborsClassifier()"
      ]
     },
     "execution_count": 40,
     "metadata": {},
     "output_type": "execute_result"
    }
   ],
   "source": [
    "knn.fit(xt,yt)"
   ]
  },
  {
   "cell_type": "code",
   "execution_count": 41,
   "id": "560a8779",
   "metadata": {},
   "outputs": [
    {
     "data": {
      "text/plain": [
       "array([1, 0, 1, 0, 1, 0, 0])"
      ]
     },
     "execution_count": 41,
     "metadata": {},
     "output_type": "execute_result"
    }
   ],
   "source": [
    "knn.predict(xte)"
   ]
  },
  {
   "cell_type": "code",
   "execution_count": 43,
   "id": "9a154d46",
   "metadata": {},
   "outputs": [
    {
     "name": "stdout",
     "output_type": "stream",
     "text": [
      "85.71428571428571\n"
     ]
    }
   ],
   "source": [
    "print(knn.score(xte,yte)*100)#accuracy"
   ]
  },
  {
   "cell_type": "code",
   "execution_count": 44,
   "id": "0024cadf",
   "metadata": {},
   "outputs": [],
   "source": [
    "from sklearn.datasets import load_breast_cancer\n"
   ]
  },
  {
   "cell_type": "code",
   "execution_count": 48,
   "id": "0de6d426",
   "metadata": {},
   "outputs": [],
   "source": [
    "bc=load_breast_cancer()\n",
    "x=bc.data\n",
    "y=bc.target"
   ]
  },
  {
   "cell_type": "code",
   "execution_count": 60,
   "id": "18fe1e91",
   "metadata": {},
   "outputs": [],
   "source": [
    "import matplotlib.pyplot as plt\n",
    "xtr,xte,ytr,yte=train_test_split(x,y,stratify=cancer.target,random_state=66)\n",
    "tra=[]\n",
    "tea=[]\n",
    "\n",
    "for n_n in range(1,11):\n",
    "    bcknn=KNeighborsClassifier(n_neighbors=n_n)\n",
    "    bcknn.fit(xtr,ytr)\n",
    "    bcknn.predict(xte)\n",
    "    tra.append(bcknn.score(xtr,ytr))\n",
    "    tea.append(bcknn.score(xte,yte))\n",
    "    "
   ]
  },
  {
   "cell_type": "code",
   "execution_count": 66,
   "id": "c207a7f2",
   "metadata": {},
   "outputs": [
    {
     "name": "stdout",
     "output_type": "stream",
     "text": [
      "[1.0, 0.9765258215962441, 0.9577464788732394, 0.9553990610328639, 0.9483568075117371, 0.9460093896713615, 0.9436619718309859, 0.9413145539906104, 0.9342723004694836, 0.9389671361502347] \n",
      " [0.9020979020979021, 0.8881118881118881, 0.9230769230769231, 0.9230769230769231, 0.9230769230769231, 0.9370629370629371, 0.9300699300699301, 0.9300699300699301, 0.916083916083916, 0.916083916083916]\n"
     ]
    }
   ],
   "source": [
    "print(tra,\"\\n\",tea)\n",
    "n_n=range(1,11)"
   ]
  },
  {
   "cell_type": "code",
   "execution_count": 72,
   "id": "bcd4c0be",
   "metadata": {},
   "outputs": [
    {
     "data": {
      "text/plain": [
       "[<matplotlib.lines.Line2D at 0x1f8df9afc10>]"
      ]
     },
     "execution_count": 72,
     "metadata": {},
     "output_type": "execute_result"
    },
    {
     "data": {
      "image/png": "[encoded data removed]",
      "text/plain": [
       "<Figure size 432x288 with 1 Axes>"
      ]
     },
     "metadata": {
      "needs_background": "light"
     },
     "output_type": "display_data"
    }
   ],
   "source": [
    "plt.plot(n_n,tea)\n",
    "plt.plot(n_n,tra)"
   ]
  },
  {
   "cell_type": "code",
   "execution_count": 52,
   "id": "ea013d95",
   "metadata": {},
   "outputs": [
    {
     "data": {
      "text/plain": [
       "array([0, 1, 1, 0, 1, 1, 1, 1, 1, 1, 0, 1, 1, 0, 0, 0, 1, 0, 0, 0, 0, 0,\n",
       "       1, 1, 0, 1, 1, 1, 1, 0, 1, 0, 1, 0, 1, 0, 1, 0, 1, 0, 0, 1, 0, 1,\n",
       "       0, 0, 1, 1, 1, 0, 0, 1, 0, 1, 1, 1, 1, 1, 1, 0, 0, 0, 1, 1, 0, 1,\n",
       "       0, 0, 0, 1, 1, 0, 1, 1, 0, 1, 1, 1, 1, 1, 0, 0, 0, 1, 0, 1, 1, 1,\n",
       "       0, 0, 1, 0, 1, 1, 1, 1, 0, 1, 1, 1, 1, 1, 1, 1, 0, 1, 0, 0, 0, 0,\n",
       "       1, 0, 0, 1, 1, 1, 1, 1, 1, 1, 1, 1, 1, 1, 0, 1, 1, 1, 1, 1, 0, 1,\n",
       "       1, 1, 1, 1, 1, 0, 0, 1, 1, 1, 0])"
      ]
     },
     "execution_count": 52,
     "metadata": {},
     "output_type": "execute_result"
    }
   ],
   "source": [
    "bcknn.predict(xte)"
   ]
  },
  {
   "cell_type": "code",
   "execution_count": 73,
   "id": "015dd273",
   "metadata": {},
   "outputs": [
    {
     "data": {
      "image/png": "[encoded data removed]",
      "text/plain": [
       "<Figure size 720x432 with 1 Axes>"
      ]
     },
     "metadata": {
      "needs_background": "light"
     },
     "output_type": "display_data"
    }
   ],
   "source": [
    "mglearn.plots.plot_knn_regression(n_neighbors=1)"
   ]
  },
  {
   "cell_type": "code",
   "execution_count": 74,
   "id": "aec1549b",
   "metadata": {},
   "outputs": [],
   "source": [
    "from sklearn.neighbors import KNeighborsRegressor\n"
   ]
  },
  {
   "cell_type": "code",
   "execution_count": 75,
   "id": "45a8eef3",
   "metadata": {},
   "outputs": [],
   "source": [
    "x,y= mglearn.datasets.make_wave(n_samples=40)\n",
    "xtr,xte,ytr,yte=train_test_split(x,y,random_state=None)"
   ]
  },
  {
   "cell_type": "code",
   "execution_count": 76,
   "id": "1394bdf3",
   "metadata": {},
   "outputs": [],
   "source": [
    "knnreg=KNeighborsRegressor(n_neighbors=3)"
   ]
  },
  {
   "cell_type": "code",
   "execution_count": 77,
   "id": "05cad1b9",
   "metadata": {},
   "outputs": [
    {
     "data": {
      "text/html": [
       "<style>#sk-container-id-5 {color: black;background-color: white;}#sk-container-id-5 pre{padding: 0;}#sk-container-id-5 div.sk-toggleable {background-color: white;}#sk-container-id-5 label.sk-toggleable__label {cursor: pointer;display: block;width: 100%;margin-bottom: 0;padding: 0.3em;box-sizing: border-box;text-align: center;}#sk-container-id-5 label.sk-toggleable__label-arrow:before {content: \"▸\";float: left;margin-right: 0.25em;color: #696969;}#sk-container-id-5 label.sk-toggleable__label-arrow:hover:before {color: black;}#sk-container-id-5 div.sk-estimator:hover label.sk-toggleable__label-arrow:before {color: black;}#sk-container-id-5 div.sk-toggleable__content {max-height: 0;max-width: 0;overflow: hidden;text-align: left;background-color: #f0f8ff;}#sk-container-id-5 div.sk-toggleable__content pre {margin: 0.2em;color: black;border-radius: 0.25em;background-color: #f0f8ff;}#sk-container-id-5 input.sk-toggleable__control:checked~div.sk-toggleable__content {max-height: 200px;max-width: 100%;overflow: auto;}#sk-container-id-5 input.sk-toggleable__control:checked~label.sk-toggleable__label-arrow:before {content: \"▾\";}#sk-container-id-5 div.sk-estimator input.sk-toggleable__control:checked~label.sk-toggleable__label {background-color: #d4ebff;}#sk-container-id-5 div.sk-label input.sk-toggleable__control:checked~label.sk-toggleable__label {background-color: #d4ebff;}#sk-container-id-5 input.sk-hidden--visually {border: 0;clip: rect(1px 1px 1px 1px);clip: rect(1px, 1px, 1px, 1px);height: 1px;margin: -1px;overflow: hidden;padding: 0;position: absolute;width: 1px;}#sk-container-id-5 div.sk-estimator {font-family: monospace;background-color: #f0f8ff;border: 1px dotted black;border-radius: 0.25em;box-sizing: border-box;margin-bottom: 0.5em;}#sk-container-id-5 div.sk-estimator:hover {background-color: #d4ebff;}#sk-container-id-5 div.sk-parallel-item::after {content: \"\";width: 100%;border-bottom: 1px solid gray;flex-grow: 1;}#sk-container-id-5 div.sk-label:hover label.sk-toggleable__label {background-color: #d4ebff;}#sk-container-id-5 div.sk-serial::before {content: \"\";position: absolute;border-left: 1px solid gray;box-sizing: border-box;top: 0;bottom: 0;left: 50%;z-index: 0;}#sk-container-id-5 div.sk-serial {display: flex;flex-direction: column;align-items: center;background-color: white;padding-right: 0.2em;padding-left: 0.2em;position: relative;}#sk-container-id-5 div.sk-item {position: relative;z-index: 1;}#sk-container-id-5 div.sk-parallel {display: flex;align-items: stretch;justify-content: center;background-color: white;position: relative;}#sk-container-id-5 div.sk-item::before, #sk-container-id-5 div.sk-parallel-item::before {content: \"\";position: absolute;border-left: 1px solid gray;box-sizing: border-box;top: 0;bottom: 0;left: 50%;z-index: -1;}#sk-container-id-5 div.sk-parallel-item {display: flex;flex-direction: column;z-index: 1;position: relative;background-color: white;}#sk-container-id-5 div.sk-parallel-item:first-child::after {align-self: flex-end;width: 50%;}#sk-container-id-5 div.sk-parallel-item:last-child::after {align-self: flex-start;width: 50%;}#sk-container-id-5 div.sk-parallel-item:only-child::after {width: 0;}#sk-container-id-5 div.sk-dashed-wrapped {border: 1px dashed gray;margin: 0 0.4em 0.5em 0.4em;box-sizing: border-box;padding-bottom: 0.4em;background-color: white;}#sk-container-id-5 div.sk-label label {font-family: monospace;font-weight: bold;display: inline-block;line-height: 1.2em;}#sk-container-id-5 div.sk-label-container {text-align: center;}#sk-container-id-5 div.sk-container {/* jupyter's `normalize.less` sets `[hidden] { display: none; }` but bootstrap.min.css set `[hidden] { display: none !important; }` so we also need the `!important` here to be able to override the default hidden behavior on the sphinx rendered scikit-learn.org. See: https://github.com/scikit-learn/scikit-learn/issues/21755 */display: inline-block !important;position: relative;}#sk-container-id-5 div.sk-text-repr-fallback {display: none;}</style><div id=\"sk-container-id-5\" class=\"sk-top-container\"><div class=\"sk-text-repr-fallback\"><pre>KNeighborsRegressor(n_neighbors=3)</pre><b>In a Jupyter environment, please rerun this cell to show the HTML representation or trust the notebook. <br />On GitHub, the HTML representation is unable to render, please try loading this page with nbviewer.org.</b></div><div class=\"sk-container\" hidden><div class=\"sk-item\"><div class=\"sk-estimator sk-toggleable\"><input class=\"sk-toggleable__control sk-hidden--visually\" id=\"sk-estimator-id-5\" type=\"checkbox\" checked><label for=\"sk-estimator-id-5\" class=\"sk-toggleable__label sk-toggleable__label-arrow\">KNeighborsRegressor</label><div class=\"sk-toggleable__content\"><pre>KNeighborsRegressor(n_neighbors=3)</pre></div></div></div></div></div>"
      ],
      "text/plain": [
       "KNeighborsRegressor(n_neighbors=3)"
      ]
     },
     "execution_count": 77,
     "metadata": {},
     "output_type": "execute_result"
    }
   ],
   "source": [
    "knnreg.fit(xtr,ytr)"
   ]
  },
  {
   "cell_type": "code",
   "execution_count": 78,
   "id": "152747f3",
   "metadata": {},
   "outputs": [
    {
     "data": {
      "text/plain": [
       "array([-1.29961764, -1.29961764, -1.99093435,  0.91241374,  0.0836095 ,\n",
       "       -1.82091646,  0.40888807, -1.3751124 ,  0.18400081,  0.35686046])"
      ]
     },
     "execution_count": 78,
     "metadata": {},
     "output_type": "execute_result"
    }
   ],
   "source": [
    "o=knnreg.predict(xte)"
   ]
  },
  {
   "cell_type": "code",
   "execution_count": 79,
   "id": "3cdcbfe9",
   "metadata": {},
   "outputs": [
    {
     "data": {
      "image/png": "[encoded data removed]",
      "text/plain": [
       "<Figure size 1080x288 with 3 Axes>"
      ]
     },
     "metadata": {
      "needs_background": "light"
     },
     "output_type": "display_data"
    }
   ],
   "source": []
  },
  {
   "cell_type": "code",
   "execution_count": 80,
   "id": "8e0fb2f2",
   "metadata": {},
   "outputs": [],
   "source": [
    "line=np.linspace(-3,3,1000).reshape(-1,1)"
   ]
  },
  {
   "cell_type": "code",
   "execution_count": 81,
   "id": "682688e2",
   "metadata": {},
   "outputs": [
    {
     "name": "stdout",
     "output_type": "stream",
     "text": [
      "[[-3.        ]\n",
      " [-2.99399399]\n",
      " [-2.98798799]\n",
      " [-2.98198198]\n",
      " [-2.97597598]\n",
      " [-2.96996997]\n",
      " [-2.96396396]\n",
      " [-2.95795796]\n",
      " [-2.95195195]\n",
      " [-2.94594595]\n",
      " [-2.93993994]\n",
      " [-2.93393393]\n",
      " [-2.92792793]\n",
      " [-2.92192192]\n",
      " [-2.91591592]\n",
      " [-2.90990991]\n",
      " [-2.9039039 ]\n",
      " [-2.8978979 ]\n",
      " [-2.89189189]\n",
      " [-2.88588589]\n",
      " [-2.87987988]\n",
      " [-2.87387387]\n",
      " [-2.86786787]\n",
      " [-2.86186186]\n",
      " [-2.85585586]\n",
      " [-2.84984985]\n",
      " [-2.84384384]\n",
      " [-2.83783784]\n",
      " [-2.83183183]\n",
      " [-2.82582583]\n",
      " [-2.81981982]\n",
      " [-2.81381381]\n",
      " [-2.80780781]\n",
      " [-2.8018018 ]\n",
      " [-2.7957958 ]\n",
      " [-2.78978979]\n",
      " [-2.78378378]\n",
      " [-2.77777778]\n",
      " [-2.77177177]\n",
      " [-2.76576577]\n",
      " [-2.75975976]\n",
      " [-2.75375375]\n",
      " [-2.74774775]\n",
      " [-2.74174174]\n",
      " [-2.73573574]\n",
      " [-2.72972973]\n",
      " [-2.72372372]\n",
      " [-2.71771772]\n",
      " [-2.71171171]\n",
      " [-2.70570571]\n",
      " [-2.6996997 ]\n",
      " [-2.69369369]\n",
      " [-2.68768769]\n",
      " [-2.68168168]\n",
      " [-2.67567568]\n",
      " [-2.66966967]\n",
      " [-2.66366366]\n",
      " [-2.65765766]\n",
      " [-2.65165165]\n",
      " [-2.64564565]\n",
      " [-2.63963964]\n",
      " [-2.63363363]\n",
      " [-2.62762763]\n",
      " [-2.62162162]\n",
      " [-2.61561562]\n",
      " [-2.60960961]\n",
      " [-2.6036036 ]\n",
      " [-2.5975976 ]\n",
      " [-2.59159159]\n",
      " [-2.58558559]\n",
      " [-2.57957958]\n",
      " [-2.57357357]\n",
      " [-2.56756757]\n",
      " [-2.56156156]\n",
      " [-2.55555556]\n",
      " [-2.54954955]\n",
      " [-2.54354354]\n",
      " [-2.53753754]\n",
      " [-2.53153153]\n",
      " [-2.52552553]\n",
      " [-2.51951952]\n",
      " [-2.51351351]\n",
      " [-2.50750751]\n",
      " [-2.5015015 ]\n",
      " [-2.4954955 ]\n",
      " [-2.48948949]\n",
      " [-2.48348348]\n",
      " [-2.47747748]\n",
      " [-2.47147147]\n",
      " [-2.46546547]\n",
      " [-2.45945946]\n",
      " [-2.45345345]\n",
      " [-2.44744745]\n",
      " [-2.44144144]\n",
      " [-2.43543544]\n",
      " [-2.42942943]\n",
      " [-2.42342342]\n",
      " [-2.41741742]\n",
      " [-2.41141141]\n",
      " [-2.40540541]\n",
      " [-2.3993994 ]\n",
      " [-2.39339339]\n",
      " [-2.38738739]\n",
      " [-2.38138138]\n",
      " [-2.37537538]\n",
      " [-2.36936937]\n",
      " [-2.36336336]\n",
      " [-2.35735736]\n",
      " [-2.35135135]\n",
      " [-2.34534535]\n",
      " [-2.33933934]\n",
      " [-2.33333333]\n",
      " [-2.32732733]\n",
      " [-2.32132132]\n",
      " [-2.31531532]\n",
      " [-2.30930931]\n",
      " [-2.3033033 ]\n",
      " [-2.2972973 ]\n",
      " [-2.29129129]\n",
      " [-2.28528529]\n",
      " [-2.27927928]\n",
      " [-2.27327327]\n",
      " [-2.26726727]\n",
      " [-2.26126126]\n",
      " [-2.25525526]\n",
      " [-2.24924925]\n",
      " [-2.24324324]\n",
      " [-2.23723724]\n",
      " [-2.23123123]\n",
      " [-2.22522523]\n",
      " [-2.21921922]\n",
      " [-2.21321321]\n",
      " [-2.20720721]\n",
      " [-2.2012012 ]\n",
      " [-2.1951952 ]\n",
      " [-2.18918919]\n",
      " [-2.18318318]\n",
      " [-2.17717718]\n",
      " [-2.17117117]\n",
      " [-2.16516517]\n",
      " [-2.15915916]\n",
      " [-2.15315315]\n",
      " [-2.14714715]\n",
      " [-2.14114114]\n",
      " [-2.13513514]\n",
      " [-2.12912913]\n",
      " [-2.12312312]\n",
      " [-2.11711712]\n",
      " [-2.11111111]\n",
      " [-2.10510511]\n",
      " [-2.0990991 ]\n",
      " [-2.09309309]\n",
      " [-2.08708709]\n",
      " [-2.08108108]\n",
      " [-2.07507508]\n",
      " [-2.06906907]\n",
      " [-2.06306306]\n",
      " [-2.05705706]\n",
      " [-2.05105105]\n",
      " [-2.04504505]\n",
      " [-2.03903904]\n",
      " [-2.03303303]\n",
      " [-2.02702703]\n",
      " [-2.02102102]\n",
      " [-2.01501502]\n",
      " [-2.00900901]\n",
      " [-2.003003  ]\n",
      " [-1.996997  ]\n",
      " [-1.99099099]\n",
      " [-1.98498498]\n",
      " [-1.97897898]\n",
      " [-1.97297297]\n",
      " [-1.96696697]\n",
      " [-1.96096096]\n",
      " [-1.95495495]\n",
      " [-1.94894895]\n",
      " [-1.94294294]\n",
      " [-1.93693694]\n",
      " [-1.93093093]\n",
      " [-1.92492492]\n",
      " [-1.91891892]\n",
      " [-1.91291291]\n",
      " [-1.90690691]\n",
      " [-1.9009009 ]\n",
      " [-1.89489489]\n",
      " [-1.88888889]\n",
      " [-1.88288288]\n",
      " [-1.87687688]\n",
      " [-1.87087087]\n",
      " [-1.86486486]\n",
      " [-1.85885886]\n",
      " [-1.85285285]\n",
      " [-1.84684685]\n",
      " [-1.84084084]\n",
      " [-1.83483483]\n",
      " [-1.82882883]\n",
      " [-1.82282282]\n",
      " [-1.81681682]\n",
      " [-1.81081081]\n",
      " [-1.8048048 ]\n",
      " [-1.7987988 ]\n",
      " [-1.79279279]\n",
      " [-1.78678679]\n",
      " [-1.78078078]\n",
      " [-1.77477477]\n",
      " [-1.76876877]\n",
      " [-1.76276276]\n",
      " [-1.75675676]\n",
      " [-1.75075075]\n",
      " [-1.74474474]\n",
      " [-1.73873874]\n",
      " [-1.73273273]\n",
      " [-1.72672673]\n",
      " [-1.72072072]\n",
      " [-1.71471471]\n",
      " [-1.70870871]\n",
      " [-1.7027027 ]\n",
      " [-1.6966967 ]\n",
      " [-1.69069069]\n",
      " [-1.68468468]\n",
      " [-1.67867868]\n",
      " [-1.67267267]\n",
      " [-1.66666667]\n",
      " [-1.66066066]\n",
      " [-1.65465465]\n",
      " [-1.64864865]\n",
      " [-1.64264264]\n",
      " [-1.63663664]\n",
      " [-1.63063063]\n",
      " [-1.62462462]\n",
      " [-1.61861862]\n",
      " [-1.61261261]\n",
      " [-1.60660661]\n",
      " [-1.6006006 ]\n",
      " [-1.59459459]\n",
      " [-1.58858859]\n",
      " [-1.58258258]\n",
      " [-1.57657658]\n",
      " [-1.57057057]\n",
      " [-1.56456456]\n",
      " [-1.55855856]\n",
      " [-1.55255255]\n",
      " [-1.54654655]\n",
      " [-1.54054054]\n",
      " [-1.53453453]\n",
      " [-1.52852853]\n",
      " [-1.52252252]\n",
      " [-1.51651652]\n",
      " [-1.51051051]\n",
      " [-1.5045045 ]\n",
      " [-1.4984985 ]\n",
      " [-1.49249249]\n",
      " [-1.48648649]\n",
      " [-1.48048048]\n",
      " [-1.47447447]\n",
      " [-1.46846847]\n",
      " [-1.46246246]\n",
      " [-1.45645646]\n",
      " [-1.45045045]\n",
      " [-1.44444444]\n",
      " [-1.43843844]\n",
      " [-1.43243243]\n",
      " [-1.42642643]\n",
      " [-1.42042042]\n",
      " [-1.41441441]\n",
      " [-1.40840841]\n",
      " [-1.4024024 ]\n",
      " [-1.3963964 ]\n",
      " [-1.39039039]\n",
      " [-1.38438438]\n",
      " [-1.37837838]\n",
      " [-1.37237237]\n",
      " [-1.36636637]\n",
      " [-1.36036036]\n",
      " [-1.35435435]\n",
      " [-1.34834835]\n",
      " [-1.34234234]\n",
      " [-1.33633634]\n",
      " [-1.33033033]\n",
      " [-1.32432432]\n",
      " [-1.31831832]\n",
      " [-1.31231231]\n",
      " [-1.30630631]\n",
      " [-1.3003003 ]\n",
      " [-1.29429429]\n",
      " [-1.28828829]\n",
      " [-1.28228228]\n",
      " [-1.27627628]\n",
      " [-1.27027027]\n",
      " [-1.26426426]\n",
      " [-1.25825826]\n",
      " [-1.25225225]\n",
      " [-1.24624625]\n",
      " [-1.24024024]\n",
      " [-1.23423423]\n",
      " [-1.22822823]\n",
      " [-1.22222222]\n",
      " [-1.21621622]\n",
      " [-1.21021021]\n",
      " [-1.2042042 ]\n",
      " [-1.1981982 ]\n",
      " [-1.19219219]\n",
      " [-1.18618619]\n",
      " [-1.18018018]\n",
      " [-1.17417417]\n",
      " [-1.16816817]\n",
      " [-1.16216216]\n",
      " [-1.15615616]\n",
      " [-1.15015015]\n",
      " [-1.14414414]\n",
      " [-1.13813814]\n",
      " [-1.13213213]\n",
      " [-1.12612613]\n",
      " [-1.12012012]\n",
      " [-1.11411411]\n",
      " [-1.10810811]\n",
      " [-1.1021021 ]\n",
      " [-1.0960961 ]\n",
      " [-1.09009009]\n",
      " [-1.08408408]\n",
      " [-1.07807808]\n",
      " [-1.07207207]\n",
      " [-1.06606607]\n",
      " [-1.06006006]\n",
      " [-1.05405405]\n",
      " [-1.04804805]\n",
      " [-1.04204204]\n",
      " [-1.03603604]\n",
      " [-1.03003003]\n",
      " [-1.02402402]\n",
      " [-1.01801802]\n",
      " [-1.01201201]\n",
      " [-1.00600601]\n",
      " [-1.        ]\n",
      " [-0.99399399]\n",
      " [-0.98798799]\n",
      " [-0.98198198]\n",
      " [-0.97597598]\n",
      " [-0.96996997]\n",
      " [-0.96396396]\n",
      " [-0.95795796]\n",
      " [-0.95195195]\n",
      " [-0.94594595]\n",
      " [-0.93993994]\n",
      " [-0.93393393]\n",
      " [-0.92792793]\n",
      " [-0.92192192]\n",
      " [-0.91591592]\n",
      " [-0.90990991]\n",
      " [-0.9039039 ]\n",
      " [-0.8978979 ]\n",
      " [-0.89189189]\n",
      " [-0.88588589]\n",
      " [-0.87987988]\n",
      " [-0.87387387]\n",
      " [-0.86786787]\n",
      " [-0.86186186]\n",
      " [-0.85585586]\n",
      " [-0.84984985]\n",
      " [-0.84384384]\n",
      " [-0.83783784]\n",
      " [-0.83183183]\n",
      " [-0.82582583]\n",
      " [-0.81981982]\n",
      " [-0.81381381]\n",
      " [-0.80780781]\n",
      " [-0.8018018 ]\n",
      " [-0.7957958 ]\n",
      " [-0.78978979]\n",
      " [-0.78378378]\n",
      " [-0.77777778]\n",
      " [-0.77177177]\n",
      " [-0.76576577]\n",
      " [-0.75975976]\n",
      " [-0.75375375]\n",
      " [-0.74774775]\n",
      " [-0.74174174]\n",
      " [-0.73573574]\n",
      " [-0.72972973]\n",
      " [-0.72372372]\n",
      " [-0.71771772]\n",
      " [-0.71171171]\n",
      " [-0.70570571]\n",
      " [-0.6996997 ]\n",
      " [-0.69369369]\n",
      " [-0.68768769]\n",
      " [-0.68168168]\n",
      " [-0.67567568]\n",
      " [-0.66966967]\n",
      " [-0.66366366]\n",
      " [-0.65765766]\n",
      " [-0.65165165]\n",
      " [-0.64564565]\n",
      " [-0.63963964]\n",
      " [-0.63363363]\n",
      " [-0.62762763]\n",
      " [-0.62162162]\n",
      " [-0.61561562]\n",
      " [-0.60960961]\n",
      " [-0.6036036 ]\n",
      " [-0.5975976 ]\n",
      " [-0.59159159]\n",
      " [-0.58558559]\n",
      " [-0.57957958]\n",
      " [-0.57357357]\n",
      " [-0.56756757]\n",
      " [-0.56156156]\n",
      " [-0.55555556]\n",
      " [-0.54954955]\n",
      " [-0.54354354]\n",
      " [-0.53753754]\n",
      " [-0.53153153]\n",
      " [-0.52552553]\n",
      " [-0.51951952]\n",
      " [-0.51351351]\n",
      " [-0.50750751]\n",
      " [-0.5015015 ]\n",
      " [-0.4954955 ]\n",
      " [-0.48948949]\n",
      " [-0.48348348]\n",
      " [-0.47747748]\n",
      " [-0.47147147]\n",
      " [-0.46546547]\n",
      " [-0.45945946]\n",
      " [-0.45345345]\n",
      " [-0.44744745]\n",
      " [-0.44144144]\n",
      " [-0.43543544]\n",
      " [-0.42942943]\n",
      " [-0.42342342]\n",
      " [-0.41741742]\n",
      " [-0.41141141]\n",
      " [-0.40540541]\n",
      " [-0.3993994 ]\n",
      " [-0.39339339]\n",
      " [-0.38738739]\n",
      " [-0.38138138]\n",
      " [-0.37537538]\n",
      " [-0.36936937]\n",
      " [-0.36336336]\n",
      " [-0.35735736]\n",
      " [-0.35135135]\n",
      " [-0.34534535]\n",
      " [-0.33933934]\n",
      " [-0.33333333]\n",
      " [-0.32732733]\n",
      " [-0.32132132]\n",
      " [-0.31531532]\n",
      " [-0.30930931]\n",
      " [-0.3033033 ]\n",
      " [-0.2972973 ]\n",
      " [-0.29129129]\n",
      " [-0.28528529]\n",
      " [-0.27927928]\n",
      " [-0.27327327]\n",
      " [-0.26726727]\n",
      " [-0.26126126]\n",
      " [-0.25525526]\n",
      " [-0.24924925]\n",
      " [-0.24324324]\n",
      " [-0.23723724]\n",
      " [-0.23123123]\n",
      " [-0.22522523]\n",
      " [-0.21921922]\n",
      " [-0.21321321]\n",
      " [-0.20720721]\n",
      " [-0.2012012 ]\n",
      " [-0.1951952 ]\n",
      " [-0.18918919]\n",
      " [-0.18318318]\n",
      " [-0.17717718]\n",
      " [-0.17117117]\n",
      " [-0.16516517]\n",
      " [-0.15915916]\n",
      " [-0.15315315]\n",
      " [-0.14714715]\n",
      " [-0.14114114]\n",
      " [-0.13513514]\n",
      " [-0.12912913]\n",
      " [-0.12312312]\n",
      " [-0.11711712]\n",
      " [-0.11111111]\n",
      " [-0.10510511]\n",
      " [-0.0990991 ]\n",
      " [-0.09309309]\n",
      " [-0.08708709]\n",
      " [-0.08108108]\n",
      " [-0.07507508]\n",
      " [-0.06906907]\n",
      " [-0.06306306]\n",
      " [-0.05705706]\n",
      " [-0.05105105]\n",
      " [-0.04504505]\n",
      " [-0.03903904]\n",
      " [-0.03303303]\n",
      " [-0.02702703]\n",
      " [-0.02102102]\n",
      " [-0.01501502]\n",
      " [-0.00900901]\n",
      " [-0.003003  ]\n",
      " [ 0.003003  ]\n",
      " [ 0.00900901]\n",
      " [ 0.01501502]\n",
      " [ 0.02102102]\n",
      " [ 0.02702703]\n",
      " [ 0.03303303]\n",
      " [ 0.03903904]\n",
      " [ 0.04504505]\n",
      " [ 0.05105105]\n",
      " [ 0.05705706]\n",
      " [ 0.06306306]\n",
      " [ 0.06906907]\n",
      " [ 0.07507508]\n",
      " [ 0.08108108]\n",
      " [ 0.08708709]\n",
      " [ 0.09309309]\n",
      " [ 0.0990991 ]\n",
      " [ 0.10510511]\n",
      " [ 0.11111111]\n",
      " [ 0.11711712]\n",
      " [ 0.12312312]\n",
      " [ 0.12912913]\n",
      " [ 0.13513514]\n",
      " [ 0.14114114]\n",
      " [ 0.14714715]\n",
      " [ 0.15315315]\n",
      " [ 0.15915916]\n",
      " [ 0.16516517]\n",
      " [ 0.17117117]\n",
      " [ 0.17717718]\n",
      " [ 0.18318318]\n",
      " [ 0.18918919]\n",
      " [ 0.1951952 ]\n",
      " [ 0.2012012 ]\n",
      " [ 0.20720721]\n",
      " [ 0.21321321]\n",
      " [ 0.21921922]\n",
      " [ 0.22522523]\n",
      " [ 0.23123123]\n",
      " [ 0.23723724]\n",
      " [ 0.24324324]\n",
      " [ 0.24924925]\n",
      " [ 0.25525526]\n",
      " [ 0.26126126]\n",
      " [ 0.26726727]\n",
      " [ 0.27327327]\n",
      " [ 0.27927928]\n",
      " [ 0.28528529]\n",
      " [ 0.29129129]\n",
      " [ 0.2972973 ]\n",
      " [ 0.3033033 ]\n",
      " [ 0.30930931]\n",
      " [ 0.31531532]\n",
      " [ 0.32132132]\n",
      " [ 0.32732733]\n",
      " [ 0.33333333]\n",
      " [ 0.33933934]\n",
      " [ 0.34534535]\n",
      " [ 0.35135135]\n",
      " [ 0.35735736]\n",
      " [ 0.36336336]\n",
      " [ 0.36936937]\n",
      " [ 0.37537538]\n",
      " [ 0.38138138]\n",
      " [ 0.38738739]\n",
      " [ 0.39339339]\n",
      " [ 0.3993994 ]\n",
      " [ 0.40540541]\n",
      " [ 0.41141141]\n",
      " [ 0.41741742]\n",
      " [ 0.42342342]\n",
      " [ 0.42942943]\n",
      " [ 0.43543544]\n",
      " [ 0.44144144]\n",
      " [ 0.44744745]\n",
      " [ 0.45345345]\n",
      " [ 0.45945946]\n",
      " [ 0.46546547]\n",
      " [ 0.47147147]\n",
      " [ 0.47747748]\n",
      " [ 0.48348348]\n",
      " [ 0.48948949]\n",
      " [ 0.4954955 ]\n",
      " [ 0.5015015 ]\n",
      " [ 0.50750751]\n",
      " [ 0.51351351]\n",
      " [ 0.51951952]\n",
      " [ 0.52552553]\n",
      " [ 0.53153153]\n",
      " [ 0.53753754]\n",
      " [ 0.54354354]\n",
      " [ 0.54954955]\n",
      " [ 0.55555556]\n",
      " [ 0.56156156]\n",
      " [ 0.56756757]\n",
      " [ 0.57357357]\n",
      " [ 0.57957958]\n",
      " [ 0.58558559]\n",
      " [ 0.59159159]\n",
      " [ 0.5975976 ]\n",
      " [ 0.6036036 ]\n",
      " [ 0.60960961]\n",
      " [ 0.61561562]\n",
      " [ 0.62162162]\n",
      " [ 0.62762763]\n",
      " [ 0.63363363]\n",
      " [ 0.63963964]\n",
      " [ 0.64564565]\n",
      " [ 0.65165165]\n",
      " [ 0.65765766]\n",
      " [ 0.66366366]\n",
      " [ 0.66966967]\n",
      " [ 0.67567568]\n",
      " [ 0.68168168]\n",
      " [ 0.68768769]\n",
      " [ 0.69369369]\n",
      " [ 0.6996997 ]\n",
      " [ 0.70570571]\n",
      " [ 0.71171171]\n",
      " [ 0.71771772]\n",
      " [ 0.72372372]\n",
      " [ 0.72972973]\n",
      " [ 0.73573574]\n",
      " [ 0.74174174]\n",
      " [ 0.74774775]\n",
      " [ 0.75375375]\n",
      " [ 0.75975976]\n",
      " [ 0.76576577]\n",
      " [ 0.77177177]\n",
      " [ 0.77777778]\n",
      " [ 0.78378378]\n",
      " [ 0.78978979]\n",
      " [ 0.7957958 ]\n",
      " [ 0.8018018 ]\n",
      " [ 0.80780781]\n",
      " [ 0.81381381]\n",
      " [ 0.81981982]\n",
      " [ 0.82582583]\n",
      " [ 0.83183183]\n",
      " [ 0.83783784]\n",
      " [ 0.84384384]\n",
      " [ 0.84984985]\n",
      " [ 0.85585586]\n",
      " [ 0.86186186]\n",
      " [ 0.86786787]\n",
      " [ 0.87387387]\n",
      " [ 0.87987988]\n",
      " [ 0.88588589]\n",
      " [ 0.89189189]\n",
      " [ 0.8978979 ]\n",
      " [ 0.9039039 ]\n",
      " [ 0.90990991]\n",
      " [ 0.91591592]\n",
      " [ 0.92192192]\n",
      " [ 0.92792793]\n",
      " [ 0.93393393]\n",
      " [ 0.93993994]\n",
      " [ 0.94594595]\n",
      " [ 0.95195195]\n",
      " [ 0.95795796]\n",
      " [ 0.96396396]\n",
      " [ 0.96996997]\n",
      " [ 0.97597598]\n",
      " [ 0.98198198]\n",
      " [ 0.98798799]\n",
      " [ 0.99399399]\n",
      " [ 1.        ]\n",
      " [ 1.00600601]\n",
      " [ 1.01201201]\n",
      " [ 1.01801802]\n",
      " [ 1.02402402]\n",
      " [ 1.03003003]\n",
      " [ 1.03603604]\n",
      " [ 1.04204204]\n",
      " [ 1.04804805]\n",
      " [ 1.05405405]\n",
      " [ 1.06006006]\n",
      " [ 1.06606607]\n",
      " [ 1.07207207]\n",
      " [ 1.07807808]\n",
      " [ 1.08408408]\n",
      " [ 1.09009009]\n",
      " [ 1.0960961 ]\n",
      " [ 1.1021021 ]\n",
      " [ 1.10810811]\n",
      " [ 1.11411411]\n",
      " [ 1.12012012]\n",
      " [ 1.12612613]\n",
      " [ 1.13213213]\n",
      " [ 1.13813814]\n",
      " [ 1.14414414]\n",
      " [ 1.15015015]\n",
      " [ 1.15615616]\n",
      " [ 1.16216216]\n",
      " [ 1.16816817]\n",
      " [ 1.17417417]\n",
      " [ 1.18018018]\n",
      " [ 1.18618619]\n",
      " [ 1.19219219]\n",
      " [ 1.1981982 ]\n",
      " [ 1.2042042 ]\n",
      " [ 1.21021021]\n",
      " [ 1.21621622]\n",
      " [ 1.22222222]\n",
      " [ 1.22822823]\n",
      " [ 1.23423423]\n",
      " [ 1.24024024]\n",
      " [ 1.24624625]\n",
      " [ 1.25225225]\n",
      " [ 1.25825826]\n",
      " [ 1.26426426]\n",
      " [ 1.27027027]\n",
      " [ 1.27627628]\n",
      " [ 1.28228228]\n",
      " [ 1.28828829]\n",
      " [ 1.29429429]\n",
      " [ 1.3003003 ]\n",
      " [ 1.30630631]\n",
      " [ 1.31231231]\n",
      " [ 1.31831832]\n",
      " [ 1.32432432]\n",
      " [ 1.33033033]\n",
      " [ 1.33633634]\n",
      " [ 1.34234234]\n",
      " [ 1.34834835]\n",
      " [ 1.35435435]\n",
      " [ 1.36036036]\n",
      " [ 1.36636637]\n",
      " [ 1.37237237]\n",
      " [ 1.37837838]\n",
      " [ 1.38438438]\n",
      " [ 1.39039039]\n",
      " [ 1.3963964 ]\n",
      " [ 1.4024024 ]\n",
      " [ 1.40840841]\n",
      " [ 1.41441441]\n",
      " [ 1.42042042]\n",
      " [ 1.42642643]\n",
      " [ 1.43243243]\n",
      " [ 1.43843844]\n",
      " [ 1.44444444]\n",
      " [ 1.45045045]\n",
      " [ 1.45645646]\n",
      " [ 1.46246246]\n",
      " [ 1.46846847]\n",
      " [ 1.47447447]\n",
      " [ 1.48048048]\n",
      " [ 1.48648649]\n",
      " [ 1.49249249]\n",
      " [ 1.4984985 ]\n",
      " [ 1.5045045 ]\n",
      " [ 1.51051051]\n",
      " [ 1.51651652]\n",
      " [ 1.52252252]\n",
      " [ 1.52852853]\n",
      " [ 1.53453453]\n",
      " [ 1.54054054]\n",
      " [ 1.54654655]\n",
      " [ 1.55255255]\n",
      " [ 1.55855856]\n",
      " [ 1.56456456]\n",
      " [ 1.57057057]\n",
      " [ 1.57657658]\n",
      " [ 1.58258258]\n",
      " [ 1.58858859]\n",
      " [ 1.59459459]\n",
      " [ 1.6006006 ]\n",
      " [ 1.60660661]\n",
      " [ 1.61261261]\n",
      " [ 1.61861862]\n",
      " [ 1.62462462]\n",
      " [ 1.63063063]\n",
      " [ 1.63663664]\n",
      " [ 1.64264264]\n",
      " [ 1.64864865]\n",
      " [ 1.65465465]\n",
      " [ 1.66066066]\n",
      " [ 1.66666667]\n",
      " [ 1.67267267]\n",
      " [ 1.67867868]\n",
      " [ 1.68468468]\n",
      " [ 1.69069069]\n",
      " [ 1.6966967 ]\n",
      " [ 1.7027027 ]\n",
      " [ 1.70870871]\n",
      " [ 1.71471471]\n",
      " [ 1.72072072]\n",
      " [ 1.72672673]\n",
      " [ 1.73273273]\n",
      " [ 1.73873874]\n",
      " [ 1.74474474]\n",
      " [ 1.75075075]\n",
      " [ 1.75675676]\n",
      " [ 1.76276276]\n",
      " [ 1.76876877]\n",
      " [ 1.77477477]\n",
      " [ 1.78078078]\n",
      " [ 1.78678679]\n",
      " [ 1.79279279]\n",
      " [ 1.7987988 ]\n",
      " [ 1.8048048 ]\n",
      " [ 1.81081081]\n",
      " [ 1.81681682]\n",
      " [ 1.82282282]\n",
      " [ 1.82882883]\n",
      " [ 1.83483483]\n",
      " [ 1.84084084]\n",
      " [ 1.84684685]\n",
      " [ 1.85285285]\n",
      " [ 1.85885886]\n",
      " [ 1.86486486]\n",
      " [ 1.87087087]\n",
      " [ 1.87687688]\n",
      " [ 1.88288288]\n",
      " [ 1.88888889]\n",
      " [ 1.89489489]\n",
      " [ 1.9009009 ]\n",
      " [ 1.90690691]\n",
      " [ 1.91291291]\n",
      " [ 1.91891892]\n",
      " [ 1.92492492]\n",
      " [ 1.93093093]\n",
      " [ 1.93693694]\n",
      " [ 1.94294294]\n",
      " [ 1.94894895]\n",
      " [ 1.95495495]\n",
      " [ 1.96096096]\n",
      " [ 1.96696697]\n",
      " [ 1.97297297]\n",
      " [ 1.97897898]\n",
      " [ 1.98498498]\n",
      " [ 1.99099099]\n",
      " [ 1.996997  ]\n",
      " [ 2.003003  ]\n",
      " [ 2.00900901]\n",
      " [ 2.01501502]\n",
      " [ 2.02102102]\n",
      " [ 2.02702703]\n",
      " [ 2.03303303]\n",
      " [ 2.03903904]\n",
      " [ 2.04504505]\n",
      " [ 2.05105105]\n",
      " [ 2.05705706]\n",
      " [ 2.06306306]\n",
      " [ 2.06906907]\n",
      " [ 2.07507508]\n",
      " [ 2.08108108]\n",
      " [ 2.08708709]\n",
      " [ 2.09309309]\n",
      " [ 2.0990991 ]\n",
      " [ 2.10510511]\n",
      " [ 2.11111111]\n",
      " [ 2.11711712]\n",
      " [ 2.12312312]\n",
      " [ 2.12912913]\n",
      " [ 2.13513514]\n",
      " [ 2.14114114]\n",
      " [ 2.14714715]\n",
      " [ 2.15315315]\n",
      " [ 2.15915916]\n",
      " [ 2.16516517]\n",
      " [ 2.17117117]\n",
      " [ 2.17717718]\n",
      " [ 2.18318318]\n",
      " [ 2.18918919]\n",
      " [ 2.1951952 ]\n",
      " [ 2.2012012 ]\n",
      " [ 2.20720721]\n",
      " [ 2.21321321]\n",
      " [ 2.21921922]\n",
      " [ 2.22522523]\n",
      " [ 2.23123123]\n",
      " [ 2.23723724]\n",
      " [ 2.24324324]\n",
      " [ 2.24924925]\n",
      " [ 2.25525526]\n",
      " [ 2.26126126]\n",
      " [ 2.26726727]\n",
      " [ 2.27327327]\n",
      " [ 2.27927928]\n",
      " [ 2.28528529]\n",
      " [ 2.29129129]\n",
      " [ 2.2972973 ]\n",
      " [ 2.3033033 ]\n",
      " [ 2.30930931]\n",
      " [ 2.31531532]\n",
      " [ 2.32132132]\n",
      " [ 2.32732733]\n",
      " [ 2.33333333]\n",
      " [ 2.33933934]\n",
      " [ 2.34534535]\n",
      " [ 2.35135135]\n",
      " [ 2.35735736]\n",
      " [ 2.36336336]\n",
      " [ 2.36936937]\n",
      " [ 2.37537538]\n",
      " [ 2.38138138]\n",
      " [ 2.38738739]\n",
      " [ 2.39339339]\n",
      " [ 2.3993994 ]\n",
      " [ 2.40540541]\n",
      " [ 2.41141141]\n",
      " [ 2.41741742]\n",
      " [ 2.42342342]\n",
      " [ 2.42942943]\n",
      " [ 2.43543544]\n",
      " [ 2.44144144]\n",
      " [ 2.44744745]\n",
      " [ 2.45345345]\n",
      " [ 2.45945946]\n",
      " [ 2.46546547]\n",
      " [ 2.47147147]\n",
      " [ 2.47747748]\n",
      " [ 2.48348348]\n",
      " [ 2.48948949]\n",
      " [ 2.4954955 ]\n",
      " [ 2.5015015 ]\n",
      " [ 2.50750751]\n",
      " [ 2.51351351]\n",
      " [ 2.51951952]\n",
      " [ 2.52552553]\n",
      " [ 2.53153153]\n",
      " [ 2.53753754]\n",
      " [ 2.54354354]\n",
      " [ 2.54954955]\n",
      " [ 2.55555556]\n",
      " [ 2.56156156]\n",
      " [ 2.56756757]\n",
      " [ 2.57357357]\n",
      " [ 2.57957958]\n",
      " [ 2.58558559]\n",
      " [ 2.59159159]\n",
      " [ 2.5975976 ]\n",
      " [ 2.6036036 ]\n",
      " [ 2.60960961]\n",
      " [ 2.61561562]\n",
      " [ 2.62162162]\n",
      " [ 2.62762763]\n",
      " [ 2.63363363]\n",
      " [ 2.63963964]\n",
      " [ 2.64564565]\n",
      " [ 2.65165165]\n",
      " [ 2.65765766]\n",
      " [ 2.66366366]\n",
      " [ 2.66966967]\n",
      " [ 2.67567568]\n",
      " [ 2.68168168]\n",
      " [ 2.68768769]\n",
      " [ 2.69369369]\n",
      " [ 2.6996997 ]\n",
      " [ 2.70570571]\n",
      " [ 2.71171171]\n",
      " [ 2.71771772]\n",
      " [ 2.72372372]\n",
      " [ 2.72972973]\n",
      " [ 2.73573574]\n",
      " [ 2.74174174]\n",
      " [ 2.74774775]\n",
      " [ 2.75375375]\n",
      " [ 2.75975976]\n",
      " [ 2.76576577]\n",
      " [ 2.77177177]\n",
      " [ 2.77777778]\n",
      " [ 2.78378378]\n",
      " [ 2.78978979]\n",
      " [ 2.7957958 ]\n",
      " [ 2.8018018 ]\n",
      " [ 2.80780781]\n",
      " [ 2.81381381]\n",
      " [ 2.81981982]\n",
      " [ 2.82582583]\n",
      " [ 2.83183183]\n",
      " [ 2.83783784]\n",
      " [ 2.84384384]\n",
      " [ 2.84984985]\n",
      " [ 2.85585586]\n",
      " [ 2.86186186]\n",
      " [ 2.86786787]\n",
      " [ 2.87387387]\n",
      " [ 2.87987988]\n",
      " [ 2.88588589]\n",
      " [ 2.89189189]\n",
      " [ 2.8978979 ]\n",
      " [ 2.9039039 ]\n",
      " [ 2.90990991]\n",
      " [ 2.91591592]\n",
      " [ 2.92192192]\n",
      " [ 2.92792793]\n",
      " [ 2.93393393]\n",
      " [ 2.93993994]\n",
      " [ 2.94594595]\n",
      " [ 2.95195195]\n",
      " [ 2.95795796]\n",
      " [ 2.96396396]\n",
      " [ 2.96996997]\n",
      " [ 2.97597598]\n",
      " [ 2.98198198]\n",
      " [ 2.98798799]\n",
      " [ 2.99399399]\n",
      " [ 3.        ]]\n"
     ]
    }
   ],
   "source": [
    "print(line)"
   ]
  },
  {
   "cell_type": "code",
   "execution_count": 85,
   "id": "33de43aa",
   "metadata": {},
   "outputs": [
    {
     "data": {
      "image/png": "[encoded data removed]",
      "text/plain": [
       "<Figure size 1080x288 with 3 Axes>"
      ]
     },
     "metadata": {
      "needs_background": "light"
     },
     "output_type": "display_data"
    }
   ],
   "source": [
    "fig,axes=plt.subplots(1,3,figsize=(15,4))\n",
    "for n_n,ax in zip([1,3,9],axes):\n",
    "    reg=KNeighborsRegressor(n_neighbors=n_n)\n",
    "    reg.fit(xtr,ytr)\n",
    "    ax.plot(line,reg.predict(line))\n",
    "    ax.plot(xtr,ytr,'^',c=mglearn.cm2(0),markersize=8)\n",
    "    ax.plot(xte,yte,'*',c=mglearn.cm2(1),markersize=8)\n",
    "    ax.set_title(\"e,wjhrf\")\n",
    "    "
   ]
  },
  {
   "cell_type": "code",
   "execution_count": 84,
   "id": "b1f8075d",
   "metadata": {},
   "outputs": [],
   "source": [
    "plt.show()"
   ]
  },
  {
   "cell_type": "code",
   "execution_count": 86,
   "id": "4cd81848",
   "metadata": {},
   "outputs": [
    {
     "name": "stdout",
     "output_type": "stream",
     "text": [
      "w[0]: 0.393906  b: -0.031804\n"
     ]
    },
    {
     "data": {
      "image/png": "[encoded data removed]",
      "text/plain": [
       "<Figure size 576x576 with 1 Axes>"
      ]
     },
     "metadata": {
      "needs_background": "light"
     },
     "output_type": "display_data"
    }
   ],
   "source": [
    "mglearn.plots.plot_linear_regression_wave()"
   ]
  },
  {
   "cell_type": "code",
   "execution_count": 87,
   "id": "2a939d2f",
   "metadata": {
    "scrolled": true
   },
   "outputs": [
    {
     "ename": "TypeError",
     "evalue": "plot_svm() missing 2 required positional arguments: 'log_C' and 'log_gamma'",
     "output_type": "error",
     "traceback": [
      "\u001b[1;31m---------------------------------------------------------------------------\u001b[0m",
      "\u001b[1;31mTypeError\u001b[0m                                 Traceback (most recent call last)",
      "\u001b[1;32mC:\\Users\\WIN10~1\\AppData\\Local\\Temp/ipykernel_32716/29646194.py\u001b[0m in \u001b[0;36m<module>\u001b[1;34m\u001b[0m\n\u001b[1;32m----> 1\u001b[1;33m \u001b[0mmglearn\u001b[0m\u001b[1;33m.\u001b[0m\u001b[0mplots\u001b[0m\u001b[1;33m.\u001b[0m\u001b[0mplot_svm\u001b[0m\u001b[1;33m(\u001b[0m\u001b[1;33m)\u001b[0m\u001b[1;33m\u001b[0m\u001b[1;33m\u001b[0m\u001b[0m\n\u001b[0m",
      "\u001b[1;31mTypeError\u001b[0m: plot_svm() missing 2 required positional arguments: 'log_C' and 'log_gamma'"
     ]
    }
   ],
   "source": [
    "mglearn.plots.plot_svm()"
   ]
  },
  {
   "cell_type": "code",
   "execution_count": 98,
   "id": "a35d5ea5",
   "metadata": {},
   "outputs": [],
   "source": [
    "from sklearn.linear_model import LinearRegression\n",
    "x,y=mglearn.datasets.make_wave(n_samples=20)\n",
    "xtr,xte,ytr,yte=train_test_split(x,y,random_state=42)\n",
    "lr=LinearRegression().fit(xtr,ytr)"
   ]
  },
  {
   "cell_type": "code",
   "execution_count": null,
   "id": "0c72a2f2",
   "metadata": {},
   "outputs": [],
   "source": []
  },
  {
   "cell_type": "code",
   "execution_count": 99,
   "id": "b675e6fc",
   "metadata": {},
   "outputs": [
    {
     "name": "stdout",
     "output_type": "stream",
     "text": [
      "[0.44688903] -0.21891682902642987 0.8227862179617803 0.7588872104388446\n"
     ]
    }
   ],
   "source": [
    "print(lr.coef_,lr.intercept_,lr.score(xtr,ytr),lr.score(xte,yte))#wx+c=y where w is lr.coef_ and c is lr.intercept_"
   ]
  },
  {
   "cell_type": "code",
   "execution_count": 112,
   "id": "1a3e5e8f",
   "metadata": {},
   "outputs": [
    {
     "name": "stdout",
     "output_type": "stream",
     "text": [
      "(506, 104) (506,)\n"
     ]
    },
    {
     "name": "stderr",
     "output_type": "stream",
     "text": [
      "C:\\anaconda\\lib\\site-packages\\sklearn\\utils\\deprecation.py:87: FutureWarning: Function load_boston is deprecated; `load_boston` is deprecated in 1.0 and will be removed in 1.2.\n",
      "\n",
      "    The Boston housing prices dataset has an ethical problem. You can refer to\n",
      "    the documentation of this function for further details.\n",
      "\n",
      "    The scikit-learn maintainers therefore strongly discourage the use of this\n",
      "    dataset unless the purpose of the code is to study and educate about\n",
      "    ethical issues in data science and machine learning.\n",
      "\n",
      "    In this special case, you can fetch the dataset from the original\n",
      "    source::\n",
      "\n",
      "        import pandas as pd\n",
      "        import numpy as np\n",
      "\n",
      "        data_url = \"http://lib.stat.cmu.edu/datasets/boston\"\n",
      "        raw_df = pd.read_csv(data_url, sep=\"\\s+\", skiprows=22, header=None)\n",
      "        data = np.hstack([raw_df.values[::2, :], raw_df.values[1::2, :2]])\n",
      "        target = raw_df.values[1::2, 2]\n",
      "\n",
      "    Alternative datasets include the California housing dataset (i.e.\n",
      "    :func:`~sklearn.datasets.fetch_california_housing`) and the Ames housing\n",
      "    dataset. You can load the datasets as follows::\n",
      "\n",
      "        from sklearn.datasets import fetch_california_housing\n",
      "        housing = fetch_california_housing()\n",
      "\n",
      "    for the California housing dataset and::\n",
      "\n",
      "        from sklearn.datasets import fetch_openml\n",
      "        housing = fetch_openml(name=\"house_prices\", as_frame=True)\n",
      "\n",
      "    for the Ames housing dataset.\n",
      "  warnings.warn(msg, category=FutureWarning)\n"
     ]
    }
   ],
   "source": [
    "\n",
    "x,y=mglearn.datasets.load_extended_boston()\n",
    "\n",
    "print(x.shape,y.shape)\n",
    "xtr,xte,ytr,yte=train_test_split(x,y,random_state=0)\n",
    "lr=LinearRegression().fit(xtr,ytr)"
   ]
  },
  {
   "cell_type": "code",
   "execution_count": 113,
   "id": "dc444400",
   "metadata": {},
   "outputs": [
    {
     "name": "stdout",
     "output_type": "stream",
     "text": [
      "0.9520519609032729\n"
     ]
    }
   ],
   "source": [
    "print(\"\",lr.score(xtr,ytr))"
   ]
  },
  {
   "cell_type": "code",
   "execution_count": 114,
   "id": "9591a7aa",
   "metadata": {},
   "outputs": [
    {
     "name": "stdout",
     "output_type": "stream",
     "text": [
      "0.6074721959666003\n"
     ]
    }
   ],
   "source": [
    "print(\"test accuracy\",lr.score(xte,yte))"
   ]
  },
  {
   "cell_type": "code",
   "execution_count": 116,
   "id": "de323e8b",
   "metadata": {},
   "outputs": [],
   "source": [
    "from sklearn.linear_model import Ridge"
   ]
  },
  {
   "cell_type": "code",
   "execution_count": 135,
   "id": "c5d34867",
   "metadata": {},
   "outputs": [],
   "source": [
    "r01=Ridge(alpha=0.1).fit(xtr,ytr)\n",
    "r1=Ridge(alpha=1).fit(xtr,ytr)\n",
    "r10=Ridge(alpha=10).fit(xtr,ytr)\n"
   ]
  },
  {
   "cell_type": "code",
   "execution_count": 137,
   "id": "0bbe2331",
   "metadata": {},
   "outputs": [
    {
     "data": {
      "text/plain": [
       "<matplotlib.legend.Legend at 0x1f8e53b6700>"
      ]
     },
     "execution_count": 137,
     "metadata": {},
     "output_type": "execute_result"
    },
    {
     "data": {
      "image/png": "[encoded data removed]",
      "text/plain": [
       "<Figure size 432x288 with 1 Axes>"
      ]
     },
     "metadata": {
      "needs_background": "light"
     },
     "output_type": "display_data"
    }
   ],
   "source": [
    "plt.plot(r01.coef_,'s',label=\"alpha=0.1\")\n",
    "plt.plot(r1.coef_,'^',label=\"alpha=1\")\n",
    "plt.plot(r10.coef_,'*',label=\"alpha=10\")\n",
    "\n",
    "plt.plot(lr.coef_, 'o', label=\"LinearRegression\")\n",
    "plt.xlabel(\"Coefficient index\")\n",
    "plt.ylabel(\"Coefficient magnitude\")\n",
    "plt.hlines(0, 0, len(lr.coef_))\n",
    "plt.ylim(-25, 25)\n",
    "plt.legend()\n"
   ]
  },
  {
   "cell_type": "code",
   "execution_count": 149,
   "id": "e13a6e35",
   "metadata": {},
   "outputs": [
    {
     "name": "stderr",
     "output_type": "stream",
     "text": [
      "C:\\anaconda\\lib\\site-packages\\sklearn\\utils\\deprecation.py:87: FutureWarning: Function load_boston is deprecated; `load_boston` is deprecated in 1.0 and will be removed in 1.2.\n",
      "\n",
      "    The Boston housing prices dataset has an ethical problem. You can refer to\n",
      "    the documentation of this function for further details.\n",
      "\n",
      "    The scikit-learn maintainers therefore strongly discourage the use of this\n",
      "    dataset unless the purpose of the code is to study and educate about\n",
      "    ethical issues in data science and machine learning.\n",
      "\n",
      "    In this special case, you can fetch the dataset from the original\n",
      "    source::\n",
      "\n",
      "        import pandas as pd\n",
      "        import numpy as np\n",
      "\n",
      "        data_url = \"http://lib.stat.cmu.edu/datasets/boston\"\n",
      "        raw_df = pd.read_csv(data_url, sep=\"\\s+\", skiprows=22, header=None)\n",
      "        data = np.hstack([raw_df.values[::2, :], raw_df.values[1::2, :2]])\n",
      "        target = raw_df.values[1::2, 2]\n",
      "\n",
      "    Alternative datasets include the California housing dataset (i.e.\n",
      "    :func:`~sklearn.datasets.fetch_california_housing`) and the Ames housing\n",
      "    dataset. You can load the datasets as follows::\n",
      "\n",
      "        from sklearn.datasets import fetch_california_housing\n",
      "        housing = fetch_california_housing()\n",
      "\n",
      "    for the California housing dataset and::\n",
      "\n",
      "        from sklearn.datasets import fetch_openml\n",
      "        housing = fetch_openml(name=\"house_prices\", as_frame=True)\n",
      "\n",
      "    for the Ames housing dataset.\n",
      "  warnings.warn(msg, category=FutureWarning)\n",
      "C:\\anaconda\\lib\\site-packages\\sklearn\\linear_model\\_coordinate_descent.py:648: ConvergenceWarning: Objective did not converge. You might want to increase the number of iterations, check the scale of the features or consider increasing regularisation. Duality gap: 4.690e+01, tolerance: 3.233e+00\n",
      "  model = cd_fast.enet_coordinate_descent(\n"
     ]
    }
   ],
   "source": [
    "from sklearn.linear_model import Lasso\n",
    "x,y=mglearn.datasets.load_extended_boston()\n",
    "xtr,xte,ytr,yte=train_test_split(x,y,random_state=0)\n",
    "lasso=Lasso(alpha=0.01).fit(xtr,ytr)"
   ]
  },
  {
   "cell_type": "code",
   "execution_count": 150,
   "id": "092fb9c2",
   "metadata": {},
   "outputs": [
    {
     "name": "stdout",
     "output_type": "stream",
     "text": [
      "0.8961122320864716 0.7677995670886713\n"
     ]
    }
   ],
   "source": [
    "print(lasso.score(xtr,ytr),lasso.score(xte,yte))"
   ]
  },
  {
   "cell_type": "code",
   "execution_count": 151,
   "id": "7d186768",
   "metadata": {},
   "outputs": [
    {
     "name": "stdout",
     "output_type": "stream",
     "text": [
      "32\n"
     ]
    }
   ],
   "source": [
    "print(np.sum(lasso.coef_!=0))#this means lasso reduces the number of features used. \n",
    "#so in lasso higher the alpha lower the score and very high generalization.\n"
   ]
  },
  {
   "cell_type": "code",
   "execution_count": 152,
   "id": "c085d888",
   "metadata": {},
   "outputs": [],
   "source": [
    "lasso=Lasso(alpha=0.0001,max_iter=100000).fit(xtr,ytr)"
   ]
  },
  {
   "cell_type": "code",
   "execution_count": 153,
   "id": "6bc957d9",
   "metadata": {},
   "outputs": [
    {
     "name": "stdout",
     "output_type": "stream",
     "text": [
      "0.9507158754515463 0.6437467421272818\n"
     ]
    }
   ],
   "source": [
    "print(lasso.score(xtr,ytr),lasso.score(xte,yte))"
   ]
  },
  {
   "cell_type": "code",
   "execution_count": 154,
   "id": "a4d74d7f",
   "metadata": {},
   "outputs": [],
   "source": [
    "from sklearn.linear_model import LogisticRegression"
   ]
  },
  {
   "cell_type": "code",
   "execution_count": 155,
   "id": "769d7bc0",
   "metadata": {},
   "outputs": [],
   "source": [
    "from sklearn.svm import LinearSVC"
   ]
  },
  {
   "cell_type": "code",
   "execution_count": 156,
   "id": "33bf4069",
   "metadata": {},
   "outputs": [
    {
     "name": "stderr",
     "output_type": "stream",
     "text": [
      "C:\\anaconda\\lib\\site-packages\\sklearn\\utils\\deprecation.py:87: FutureWarning: Function make_blobs is deprecated; Please import make_blobs directly from scikit-learn\n",
      "  warnings.warn(msg, category=FutureWarning)\n"
     ]
    }
   ],
   "source": [
    "x,y=mglearn.datasets.make_forge()"
   ]
  },
  {
   "cell_type": "code",
   "execution_count": 159,
   "id": "3ea4b1b3",
   "metadata": {},
   "outputs": [
    {
     "name": "stderr",
     "output_type": "stream",
     "text": [
      "C:\\anaconda\\lib\\site-packages\\sklearn\\svm\\_base.py:1225: ConvergenceWarning: Liblinear failed to converge, increase the number of iterations.\n",
      "  warnings.warn(\n"
     ]
    },
    {
     "data": {
      "text/plain": [
       "<matplotlib.legend.Legend at 0x1f8e5416ac0>"
      ]
     },
     "execution_count": 159,
     "metadata": {},
     "output_type": "execute_result"
    },
    {
     "data": {
      "image/png": "[encoded data removed]",
      "text/plain": [
       "<Figure size 720x216 with 2 Axes>"
      ]
     },
     "metadata": {},
     "output_type": "display_data"
    }
   ],
   "source": [
    "fig,axes=plt.subplots(1,2,figsize=(10,3))\n",
    "for model,ax in zip([LinearSVC(),LogisticRegression()],axes):\n",
    "    clf=model.fit(x,y)\n",
    "    mglearn.plots.plot_2d_separator(clf,x,fill=False,eps=0.5,ax=ax,alpha=.7)\n",
    "    mglearn.discrete_scatter(x[:,0],x[:,1],y,ax=ax)\n",
    "    ax.set_title(\"{}\".format(clf.__class__.__name__))\n",
    "    ax.set_xlabel(\"Feature 0\")\n",
    "    ax.set_ylabel(\"Feature 1\")\n",
    "axes[0].legend()\n",
    "\n",
    "    "
   ]
  },
  {
   "cell_type": "code",
   "execution_count": 160,
   "id": "a43a82b6",
   "metadata": {},
   "outputs": [
    {
     "data": {
      "image/png": "[encoded data removed]",
      "text/plain": [
       "<Figure size 864x288 with 3 Axes>"
      ]
     },
     "metadata": {},
     "output_type": "display_data"
    }
   ],
   "source": [
    "mglearn.plots.plot_linear_svc_regularization()"
   ]
  },
  {
   "cell_type": "code",
   "execution_count": 161,
   "id": "59207343",
   "metadata": {},
   "outputs": [],
   "source": [
    "from sklearn.datasets import load_breast_cancer\n",
    "cancer=load_breast_cancer()"
   ]
  },
  {
   "cell_type": "code",
   "execution_count": 163,
   "id": "ce829458",
   "metadata": {},
   "outputs": [],
   "source": [
    "xtr,xte,ytr,yte=train_test_split(cancer.data,cancer.target,stratify=cancer.target,random_state=42)"
   ]
  },
  {
   "cell_type": "code",
   "execution_count": 166,
   "id": "3db34803",
   "metadata": {},
   "outputs": [
    {
     "name": "stdout",
     "output_type": "stream",
     "text": [
      "0.9553990610328639 0.965034965034965\n"
     ]
    },
    {
     "name": "stderr",
     "output_type": "stream",
     "text": [
      "C:\\anaconda\\lib\\site-packages\\sklearn\\linear_model\\_logistic.py:444: ConvergenceWarning: lbfgs failed to converge (status=1):\n",
      "STOP: TOTAL NO. of ITERATIONS REACHED LIMIT.\n",
      "\n",
      "Increase the number of iterations (max_iter) or scale the data as shown in:\n",
      "    https://scikit-learn.org/stable/modules/preprocessing.html\n",
      "Please also refer to the documentation for alternative solver options:\n",
      "    https://scikit-learn.org/stable/modules/linear_model.html#logistic-regression\n",
      "  n_iter_i = _check_optimize_result(\n"
     ]
    }
   ],
   "source": [
    "logreg=LogisticRegression(C=100).fit(xtr,ytr)\n",
    "print(logreg.score(xtr,ytr),logreg.score(xte,yte))"
   ]
  },
  {
   "cell_type": "code",
   "execution_count": 167,
   "id": "bc2aaa5f",
   "metadata": {},
   "outputs": [],
   "source": [
    "from sklearn.datasets import make_blobs"
   ]
  },
  {
   "cell_type": "code",
   "execution_count": 171,
   "id": "235f307c",
   "metadata": {},
   "outputs": [
    {
     "data": {
      "image/png": "[encoded data removed]",
      "text/plain": [
       "<Figure size 432x288 with 1 Axes>"
      ]
     },
     "metadata": {
      "needs_background": "light"
     },
     "output_type": "display_data"
    }
   ],
   "source": [
    "x,y=make_blobs(random_state=42)\n",
    "mglearn.discrete_scatter(x[:,0],x[:,1],y)\n",
    "plt.show()"
   ]
  },
  {
   "cell_type": "code",
   "execution_count": 172,
   "id": "c0e8e64f",
   "metadata": {},
   "outputs": [],
   "source": [
    "linearsvm=LinearSVC().fit(x,y)"
   ]
  },
  {
   "cell_type": "code",
   "execution_count": 173,
   "id": "24aff20d",
   "metadata": {},
   "outputs": [
    {
     "name": "stdout",
     "output_type": "stream",
     "text": [
      "1.0\n"
     ]
    }
   ],
   "source": [
    "print(linearsvm.score(x,y))"
   ]
  },
  {
   "cell_type": "code",
   "execution_count": 176,
   "id": "53d4ba99",
   "metadata": {},
   "outputs": [
    {
     "name": "stdout",
     "output_type": "stream",
     "text": [
      "[[-0.1749253   0.23140982]\n",
      " [ 0.47621204 -0.06936766]\n",
      " [-0.18913841 -0.20400505]] [-1.07745657  0.13140563 -0.08604923]\n"
     ]
    }
   ],
   "source": [
    "print(linearsvm.coef_,linearsvm.intercept_)"
   ]
  },
  {
   "cell_type": "code",
   "execution_count": 181,
   "id": "d0889d43",
   "metadata": {},
   "outputs": [],
   "source": [
    "from sklearn.tree import DecisionTreeClassifier,export_graphviz\n",
    "from sklearn.datasets import load_breast_cancer\n",
    "cancer=load_breast_cancer()\n",
    "xtr,xte,ytr,yte=train_test_split(cancer.data,cancer.target,stratify=cancer.target)\n",
    "dt=DecisionTreeClassifier(max_depth=4,random_state=0).fit(xtr,ytr)"
   ]
  },
  {
   "cell_type": "code",
   "execution_count": 182,
   "id": "dc19035a",
   "metadata": {},
   "outputs": [
    {
     "name": "stdout",
     "output_type": "stream",
     "text": [
      "0.9835680751173709 0.9370629370629371\n"
     ]
    }
   ],
   "source": [
    "print(dt.score(xtr,ytr),dt.score(xte,yte))"
   ]
  },
  {
   "cell_type": "code",
   "execution_count": 313,
   "id": "d269da67",
   "metadata": {},
   "outputs": [],
   "source": [
    "export_graphviz(dt,out_file=\"tree.dot\",class_names=[\"malignant\",\"malign\"],feature_names=cancer.feature_names,impurity=False,filled=True)"
   ]
  },
  {
   "cell_type": "code",
   "execution_count": null,
   "id": "d84eccd5",
   "metadata": {},
   "outputs": [],
   "source": []
  },
  {
   "cell_type": "code",
   "execution_count": null,
   "id": "19585c08",
   "metadata": {},
   "outputs": [],
   "source": []
  },
  {
   "cell_type": "code",
   "execution_count": null,
   "id": "fd396b05",
   "metadata": {},
   "outputs": [],
   "source": []
  },
  {
   "cell_type": "code",
   "execution_count": 201,
   "id": "4bdbfc57",
   "metadata": {},
   "outputs": [
    {
     "data": {
      "text/html": [
       "<style>#sk-container-id-8 {color: black;background-color: white;}#sk-container-id-8 pre{padding: 0;}#sk-container-id-8 div.sk-toggleable {background-color: white;}#sk-container-id-8 label.sk-toggleable__label {cursor: pointer;display: block;width: 100%;margin-bottom: 0;padding: 0.3em;box-sizing: border-box;text-align: center;}#sk-container-id-8 label.sk-toggleable__label-arrow:before {content: \"▸\";float: left;margin-right: 0.25em;color: #696969;}#sk-container-id-8 label.sk-toggleable__label-arrow:hover:before {color: black;}#sk-container-id-8 div.sk-estimator:hover label.sk-toggleable__label-arrow:before {color: black;}#sk-container-id-8 div.sk-toggleable__content {max-height: 0;max-width: 0;overflow: hidden;text-align: left;background-color: #f0f8ff;}#sk-container-id-8 div.sk-toggleable__content pre {margin: 0.2em;color: black;border-radius: 0.25em;background-color: #f0f8ff;}#sk-container-id-8 input.sk-toggleable__control:checked~div.sk-toggleable__content {max-height: 200px;max-width: 100%;overflow: auto;}#sk-container-id-8 input.sk-toggleable__control:checked~label.sk-toggleable__label-arrow:before {content: \"▾\";}#sk-container-id-8 div.sk-estimator input.sk-toggleable__control:checked~label.sk-toggleable__label {background-color: #d4ebff;}#sk-container-id-8 div.sk-label input.sk-toggleable__control:checked~label.sk-toggleable__label {background-color: #d4ebff;}#sk-container-id-8 input.sk-hidden--visually {border: 0;clip: rect(1px 1px 1px 1px);clip: rect(1px, 1px, 1px, 1px);height: 1px;margin: -1px;overflow: hidden;padding: 0;position: absolute;width: 1px;}#sk-container-id-8 div.sk-estimator {font-family: monospace;background-color: #f0f8ff;border: 1px dotted black;border-radius: 0.25em;box-sizing: border-box;margin-bottom: 0.5em;}#sk-container-id-8 div.sk-estimator:hover {background-color: #d4ebff;}#sk-container-id-8 div.sk-parallel-item::after {content: \"\";width: 100%;border-bottom: 1px solid gray;flex-grow: 1;}#sk-container-id-8 div.sk-label:hover label.sk-toggleable__label {background-color: #d4ebff;}#sk-container-id-8 div.sk-serial::before {content: \"\";position: absolute;border-left: 1px solid gray;box-sizing: border-box;top: 0;bottom: 0;left: 50%;z-index: 0;}#sk-container-id-8 div.sk-serial {display: flex;flex-direction: column;align-items: center;background-color: white;padding-right: 0.2em;padding-left: 0.2em;position: relative;}#sk-container-id-8 div.sk-item {position: relative;z-index: 1;}#sk-container-id-8 div.sk-parallel {display: flex;align-items: stretch;justify-content: center;background-color: white;position: relative;}#sk-container-id-8 div.sk-item::before, #sk-container-id-8 div.sk-parallel-item::before {content: \"\";position: absolute;border-left: 1px solid gray;box-sizing: border-box;top: 0;bottom: 0;left: 50%;z-index: -1;}#sk-container-id-8 div.sk-parallel-item {display: flex;flex-direction: column;z-index: 1;position: relative;background-color: white;}#sk-container-id-8 div.sk-parallel-item:first-child::after {align-self: flex-end;width: 50%;}#sk-container-id-8 div.sk-parallel-item:last-child::after {align-self: flex-start;width: 50%;}#sk-container-id-8 div.sk-parallel-item:only-child::after {width: 0;}#sk-container-id-8 div.sk-dashed-wrapped {border: 1px dashed gray;margin: 0 0.4em 0.5em 0.4em;box-sizing: border-box;padding-bottom: 0.4em;background-color: white;}#sk-container-id-8 div.sk-label label {font-family: monospace;font-weight: bold;display: inline-block;line-height: 1.2em;}#sk-container-id-8 div.sk-label-container {text-align: center;}#sk-container-id-8 div.sk-container {/* jupyter's `normalize.less` sets `[hidden] { display: none; }` but bootstrap.min.css set `[hidden] { display: none !important; }` so we also need the `!important` here to be able to override the default hidden behavior on the sphinx rendered scikit-learn.org. See: https://github.com/scikit-learn/scikit-learn/issues/21755 */display: inline-block !important;position: relative;}#sk-container-id-8 div.sk-text-repr-fallback {display: none;}</style><div id=\"sk-container-id-8\" class=\"sk-top-container\"><div class=\"sk-text-repr-fallback\"><pre>RandomForestClassifier(n_estimators=5, random_state=2)</pre><b>In a Jupyter environment, please rerun this cell to show the HTML representation or trust the notebook. <br />On GitHub, the HTML representation is unable to render, please try loading this page with nbviewer.org.</b></div><div class=\"sk-container\" hidden><div class=\"sk-item\"><div class=\"sk-estimator sk-toggleable\"><input class=\"sk-toggleable__control sk-hidden--visually\" id=\"sk-estimator-id-8\" type=\"checkbox\" checked><label for=\"sk-estimator-id-8\" class=\"sk-toggleable__label sk-toggleable__label-arrow\">RandomForestClassifier</label><div class=\"sk-toggleable__content\"><pre>RandomForestClassifier(n_estimators=5, random_state=2)</pre></div></div></div></div></div>"
      ],
      "text/plain": [
       "RandomForestClassifier(n_estimators=5, random_state=2)"
      ]
     },
     "execution_count": 201,
     "metadata": {},
     "output_type": "execute_result"
    }
   ],
   "source": [
    "from sklearn.ensemble import RandomForestClassifier\n",
    "from sklearn.datasets import make_moons\n",
    "\n",
    "x,y=make_moons(n_samples=100,noise=0.25,random_state=3)\n",
    "xtr,xte,ytr,yte=train_test_split(x,y,stratify=y,random_state=42)\n",
    "\n",
    "\n",
    "forest=RandomForestClassifier(n_estimators=5,random_state=2)\n",
    "forest.fit(xtr,ytr)"
   ]
  },
  {
   "cell_type": "code",
   "execution_count": 202,
   "id": "6c6e29f5",
   "metadata": {},
   "outputs": [
    {
     "data": {
      "text/plain": [
       "[<matplotlib.lines.Line2D at 0x1f8ea7d2250>,\n",
       " <matplotlib.lines.Line2D at 0x1f8ea783580>]"
      ]
     },
     "execution_count": 202,
     "metadata": {},
     "output_type": "execute_result"
    },
    {
     "data": {
      "image/png": "[encoded data removed]",
      "text/plain": [
       "<Figure size 1440x720 with 6 Axes>"
      ]
     },
     "metadata": {},
     "output_type": "display_data"
    }
   ],
   "source": [
    "fig, axes = plt.subplots(2, 3, figsize=(20, 10))\n",
    "for i, (ax, tree) in enumerate(zip(axes.ravel(), forest.estimators_)):\n",
    "    ax.set_title(\"Tree {}\".format(i))\n",
    "    mglearn.plots.plot_tree_partition(xtr, ytr, tree, ax=ax)\n",
    "mglearn.plots.plot_2d_separator(forest, xtr, fill=True, ax=axes[-1, -1],\n",
    " alpha=.4)\n",
    "axes[-1, -1].set_title(\"Random Forest\")\n",
    "mglearn.discrete_scatter(xtr[:, 0], xtr[:, 1], ytr)"
   ]
  },
  {
   "cell_type": "code",
   "execution_count": 243,
   "id": "a0c7ec7b",
   "metadata": {},
   "outputs": [
    {
     "data": {
      "text/html": [
       "<style>#sk-container-id-12 {color: black;background-color: white;}#sk-container-id-12 pre{padding: 0;}#sk-container-id-12 div.sk-toggleable {background-color: white;}#sk-container-id-12 label.sk-toggleable__label {cursor: pointer;display: block;width: 100%;margin-bottom: 0;padding: 0.3em;box-sizing: border-box;text-align: center;}#sk-container-id-12 label.sk-toggleable__label-arrow:before {content: \"▸\";float: left;margin-right: 0.25em;color: #696969;}#sk-container-id-12 label.sk-toggleable__label-arrow:hover:before {color: black;}#sk-container-id-12 div.sk-estimator:hover label.sk-toggleable__label-arrow:before {color: black;}#sk-container-id-12 div.sk-toggleable__content {max-height: 0;max-width: 0;overflow: hidden;text-align: left;background-color: #f0f8ff;}#sk-container-id-12 div.sk-toggleable__content pre {margin: 0.2em;color: black;border-radius: 0.25em;background-color: #f0f8ff;}#sk-container-id-12 input.sk-toggleable__control:checked~div.sk-toggleable__content {max-height: 200px;max-width: 100%;overflow: auto;}#sk-container-id-12 input.sk-toggleable__control:checked~label.sk-toggleable__label-arrow:before {content: \"▾\";}#sk-container-id-12 div.sk-estimator input.sk-toggleable__control:checked~label.sk-toggleable__label {background-color: #d4ebff;}#sk-container-id-12 div.sk-label input.sk-toggleable__control:checked~label.sk-toggleable__label {background-color: #d4ebff;}#sk-container-id-12 input.sk-hidden--visually {border: 0;clip: rect(1px 1px 1px 1px);clip: rect(1px, 1px, 1px, 1px);height: 1px;margin: -1px;overflow: hidden;padding: 0;position: absolute;width: 1px;}#sk-container-id-12 div.sk-estimator {font-family: monospace;background-color: #f0f8ff;border: 1px dotted black;border-radius: 0.25em;box-sizing: border-box;margin-bottom: 0.5em;}#sk-container-id-12 div.sk-estimator:hover {background-color: #d4ebff;}#sk-container-id-12 div.sk-parallel-item::after {content: \"\";width: 100%;border-bottom: 1px solid gray;flex-grow: 1;}#sk-container-id-12 div.sk-label:hover label.sk-toggleable__label {background-color: #d4ebff;}#sk-container-id-12 div.sk-serial::before {content: \"\";position: absolute;border-left: 1px solid gray;box-sizing: border-box;top: 0;bottom: 0;left: 50%;z-index: 0;}#sk-container-id-12 div.sk-serial {display: flex;flex-direction: column;align-items: center;background-color: white;padding-right: 0.2em;padding-left: 0.2em;position: relative;}#sk-container-id-12 div.sk-item {position: relative;z-index: 1;}#sk-container-id-12 div.sk-parallel {display: flex;align-items: stretch;justify-content: center;background-color: white;position: relative;}#sk-container-id-12 div.sk-item::before, #sk-container-id-12 div.sk-parallel-item::before {content: \"\";position: absolute;border-left: 1px solid gray;box-sizing: border-box;top: 0;bottom: 0;left: 50%;z-index: -1;}#sk-container-id-12 div.sk-parallel-item {display: flex;flex-direction: column;z-index: 1;position: relative;background-color: white;}#sk-container-id-12 div.sk-parallel-item:first-child::after {align-self: flex-end;width: 50%;}#sk-container-id-12 div.sk-parallel-item:last-child::after {align-self: flex-start;width: 50%;}#sk-container-id-12 div.sk-parallel-item:only-child::after {width: 0;}#sk-container-id-12 div.sk-dashed-wrapped {border: 1px dashed gray;margin: 0 0.4em 0.5em 0.4em;box-sizing: border-box;padding-bottom: 0.4em;background-color: white;}#sk-container-id-12 div.sk-label label {font-family: monospace;font-weight: bold;display: inline-block;line-height: 1.2em;}#sk-container-id-12 div.sk-label-container {text-align: center;}#sk-container-id-12 div.sk-container {/* jupyter's `normalize.less` sets `[hidden] { display: none; }` but bootstrap.min.css set `[hidden] { display: none !important; }` so we also need the `!important` here to be able to override the default hidden behavior on the sphinx rendered scikit-learn.org. See: https://github.com/scikit-learn/scikit-learn/issues/21755 */display: inline-block !important;position: relative;}#sk-container-id-12 div.sk-text-repr-fallback {display: none;}</style><div id=\"sk-container-id-12\" class=\"sk-top-container\"><div class=\"sk-text-repr-fallback\"><pre>RandomForestClassifier(max_depth=4, random_state=0)</pre><b>In a Jupyter environment, please rerun this cell to show the HTML representation or trust the notebook. <br />On GitHub, the HTML representation is unable to render, please try loading this page with nbviewer.org.</b></div><div class=\"sk-container\" hidden><div class=\"sk-item\"><div class=\"sk-estimator sk-toggleable\"><input class=\"sk-toggleable__control sk-hidden--visually\" id=\"sk-estimator-id-12\" type=\"checkbox\" checked><label for=\"sk-estimator-id-12\" class=\"sk-toggleable__label sk-toggleable__label-arrow\">RandomForestClassifier</label><div class=\"sk-toggleable__content\"><pre>RandomForestClassifier(max_depth=4, random_state=0)</pre></div></div></div></div></div>"
      ],
      "text/plain": [
       "RandomForestClassifier(max_depth=4, random_state=0)"
      ]
     },
     "execution_count": 243,
     "metadata": {},
     "output_type": "execute_result"
    }
   ],
   "source": [
    "xtr,xte,ytr,yte=train_test_split(cancer.data,cancer.target,stratify=cancer.target,random_state=42)\n",
    "forest=RandomForestClassifier(n_estimators=100,max_depth=4,random_state=0)\n",
    "forest.fit(xtr,ytr)\n"
   ]
  },
  {
   "cell_type": "code",
   "execution_count": 244,
   "id": "0beb01c0",
   "metadata": {},
   "outputs": [
    {
     "name": "stdout",
     "output_type": "stream",
     "text": [
      "0.9929577464788732 0.958041958041958\n"
     ]
    }
   ],
   "source": [
    "print(forest.score(xtr,ytr),forest.score(xte,yte))\n"
   ]
  },
  {
   "cell_type": "code",
   "execution_count": null,
   "id": "c6053058",
   "metadata": {},
   "outputs": [],
   "source": []
  },
  {
   "cell_type": "code",
   "execution_count": 248,
   "id": "8b0fdbb7",
   "metadata": {},
   "outputs": [],
   "source": [
    "def plot_feature_importances_cancer(model):\n",
    "    n_features = cancer.data.shape[1]\n",
    "    plt.barh(range(n_features), model.feature_importances_, align='center')\n",
    "    plt.yticks(np.arange(n_features), cancer.feature_names)\n",
    "    plt.xlabel(\"Feature importance\")\n",
    "    plt.ylabel(\"Feature\")\n"
   ]
  },
  {
   "cell_type": "code",
   "execution_count": 249,
   "id": "f1ce2a7e",
   "metadata": {},
   "outputs": [
    {
     "data": {
      "image/png": "[encoded data removed]",
      "text/plain": [
       "<Figure size 432x288 with 1 Axes>"
      ]
     },
     "metadata": {
      "needs_background": "light"
     },
     "output_type": "display_data"
    }
   ],
   "source": [
    "plot_feature_importances_cancer(forest)"
   ]
  },
  {
   "cell_type": "code",
   "execution_count": 261,
   "id": "73455084",
   "metadata": {},
   "outputs": [
    {
     "data": {
      "text/html": [
       "<style>#sk-container-id-18 {color: black;background-color: white;}#sk-container-id-18 pre{padding: 0;}#sk-container-id-18 div.sk-toggleable {background-color: white;}#sk-container-id-18 label.sk-toggleable__label {cursor: pointer;display: block;width: 100%;margin-bottom: 0;padding: 0.3em;box-sizing: border-box;text-align: center;}#sk-container-id-18 label.sk-toggleable__label-arrow:before {content: \"▸\";float: left;margin-right: 0.25em;color: #696969;}#sk-container-id-18 label.sk-toggleable__label-arrow:hover:before {color: black;}#sk-container-id-18 div.sk-estimator:hover label.sk-toggleable__label-arrow:before {color: black;}#sk-container-id-18 div.sk-toggleable__content {max-height: 0;max-width: 0;overflow: hidden;text-align: left;background-color: #f0f8ff;}#sk-container-id-18 div.sk-toggleable__content pre {margin: 0.2em;color: black;border-radius: 0.25em;background-color: #f0f8ff;}#sk-container-id-18 input.sk-toggleable__control:checked~div.sk-toggleable__content {max-height: 200px;max-width: 100%;overflow: auto;}#sk-container-id-18 input.sk-toggleable__control:checked~label.sk-toggleable__label-arrow:before {content: \"▾\";}#sk-container-id-18 div.sk-estimator input.sk-toggleable__control:checked~label.sk-toggleable__label {background-color: #d4ebff;}#sk-container-id-18 div.sk-label input.sk-toggleable__control:checked~label.sk-toggleable__label {background-color: #d4ebff;}#sk-container-id-18 input.sk-hidden--visually {border: 0;clip: rect(1px 1px 1px 1px);clip: rect(1px, 1px, 1px, 1px);height: 1px;margin: -1px;overflow: hidden;padding: 0;position: absolute;width: 1px;}#sk-container-id-18 div.sk-estimator {font-family: monospace;background-color: #f0f8ff;border: 1px dotted black;border-radius: 0.25em;box-sizing: border-box;margin-bottom: 0.5em;}#sk-container-id-18 div.sk-estimator:hover {background-color: #d4ebff;}#sk-container-id-18 div.sk-parallel-item::after {content: \"\";width: 100%;border-bottom: 1px solid gray;flex-grow: 1;}#sk-container-id-18 div.sk-label:hover label.sk-toggleable__label {background-color: #d4ebff;}#sk-container-id-18 div.sk-serial::before {content: \"\";position: absolute;border-left: 1px solid gray;box-sizing: border-box;top: 0;bottom: 0;left: 50%;z-index: 0;}#sk-container-id-18 div.sk-serial {display: flex;flex-direction: column;align-items: center;background-color: white;padding-right: 0.2em;padding-left: 0.2em;position: relative;}#sk-container-id-18 div.sk-item {position: relative;z-index: 1;}#sk-container-id-18 div.sk-parallel {display: flex;align-items: stretch;justify-content: center;background-color: white;position: relative;}#sk-container-id-18 div.sk-item::before, #sk-container-id-18 div.sk-parallel-item::before {content: \"\";position: absolute;border-left: 1px solid gray;box-sizing: border-box;top: 0;bottom: 0;left: 50%;z-index: -1;}#sk-container-id-18 div.sk-parallel-item {display: flex;flex-direction: column;z-index: 1;position: relative;background-color: white;}#sk-container-id-18 div.sk-parallel-item:first-child::after {align-self: flex-end;width: 50%;}#sk-container-id-18 div.sk-parallel-item:last-child::after {align-self: flex-start;width: 50%;}#sk-container-id-18 div.sk-parallel-item:only-child::after {width: 0;}#sk-container-id-18 div.sk-dashed-wrapped {border: 1px dashed gray;margin: 0 0.4em 0.5em 0.4em;box-sizing: border-box;padding-bottom: 0.4em;background-color: white;}#sk-container-id-18 div.sk-label label {font-family: monospace;font-weight: bold;display: inline-block;line-height: 1.2em;}#sk-container-id-18 div.sk-label-container {text-align: center;}#sk-container-id-18 div.sk-container {/* jupyter's `normalize.less` sets `[hidden] { display: none; }` but bootstrap.min.css set `[hidden] { display: none !important; }` so we also need the `!important` here to be able to override the default hidden behavior on the sphinx rendered scikit-learn.org. See: https://github.com/scikit-learn/scikit-learn/issues/21755 */display: inline-block !important;position: relative;}#sk-container-id-18 div.sk-text-repr-fallback {display: none;}</style><div id=\"sk-container-id-18\" class=\"sk-top-container\"><div class=\"sk-text-repr-fallback\"><pre>GradientBoostingClassifier(learning_rate=0.01, random_state=0)</pre><b>In a Jupyter environment, please rerun this cell to show the HTML representation or trust the notebook. <br />On GitHub, the HTML representation is unable to render, please try loading this page with nbviewer.org.</b></div><div class=\"sk-container\" hidden><div class=\"sk-item\"><div class=\"sk-estimator sk-toggleable\"><input class=\"sk-toggleable__control sk-hidden--visually\" id=\"sk-estimator-id-18\" type=\"checkbox\" checked><label for=\"sk-estimator-id-18\" class=\"sk-toggleable__label sk-toggleable__label-arrow\">GradientBoostingClassifier</label><div class=\"sk-toggleable__content\"><pre>GradientBoostingClassifier(learning_rate=0.01, random_state=0)</pre></div></div></div></div></div>"
      ],
      "text/plain": [
       "GradientBoostingClassifier(learning_rate=0.01, random_state=0)"
      ]
     },
     "execution_count": 261,
     "metadata": {},
     "output_type": "execute_result"
    }
   ],
   "source": [
    "from sklearn.ensemble import GradientBoostingClassifier\n",
    "grbt=GradientBoostingClassifier(random_state=0,learning_rate=0.01)\n",
    "grbt.fit(xtr,ytr)"
   ]
  },
  {
   "cell_type": "code",
   "execution_count": 262,
   "id": "f2fe8390",
   "metadata": {},
   "outputs": [
    {
     "name": "stdout",
     "output_type": "stream",
     "text": [
      "0.9882629107981221 0.9370629370629371\n"
     ]
    }
   ],
   "source": [
    "print(grbt.score(xtr,ytr),grbt.score(xte,yte))"
   ]
  },
  {
   "cell_type": "code",
   "execution_count": 263,
   "id": "fbe4c6ae",
   "metadata": {},
   "outputs": [
    {
     "data": {
      "image/png": "[encoded data removed]",
      "text/plain": [
       "<Figure size 432x288 with 1 Axes>"
      ]
     },
     "metadata": {
      "needs_background": "light"
     },
     "output_type": "display_data"
    }
   ],
   "source": [
    "plot_feature_importances_cancer(grbt)"
   ]
  },
  {
   "cell_type": "code",
   "execution_count": 265,
   "id": "771399f3",
   "metadata": {},
   "outputs": [
    {
     "name": "stderr",
     "output_type": "stream",
     "text": [
      "C:\\anaconda\\lib\\site-packages\\sklearn\\svm\\_base.py:1225: ConvergenceWarning: Liblinear failed to converge, increase the number of iterations.\n",
      "  warnings.warn(\n"
     ]
    },
    {
     "data": {
      "image/png": "[encoded data removed]",
      "text/plain": [
       "<Figure size 432x288 with 1 Axes>"
      ]
     },
     "metadata": {
      "needs_background": "light"
     },
     "output_type": "display_data"
    }
   ],
   "source": [
    "x,y=make_blobs(centers=4,random_state=8)\n",
    "y=y%2\n",
    "mglearn.discrete_scatter(x[:,0],x[:,1],y)\n",
    "\n",
    "linearsvm=LinearSVC().fit(x,y)"
   ]
  },
  {
   "cell_type": "code",
   "execution_count": 267,
   "id": "b50327a0",
   "metadata": {},
   "outputs": [
    {
     "data": {
      "text/plain": [
       "[<matplotlib.lines.Line2D at 0x1f880a89ee0>,\n",
       " <matplotlib.lines.Line2D at 0x1f880a89970>]"
      ]
     },
     "execution_count": 267,
     "metadata": {},
     "output_type": "execute_result"
    },
    {
     "data": {
      "image/png": "[encoded data removed]",
      "text/plain": [
       "<Figure size 432x288 with 1 Axes>"
      ]
     },
     "metadata": {},
     "output_type": "display_data"
    }
   ],
   "source": [
    "mglearn.plots.plot_2d_separator(linearsvm,x)\n",
    "mglearn.discrete_scatter(x[:,0],x[:,1],y)"
   ]
  },
  {
   "cell_type": "code",
   "execution_count": 269,
   "id": "11f5acfe",
   "metadata": {},
   "outputs": [],
   "source": [
    "X_new=np.hstack([x,x[:,1:]**2])"
   ]
  },
  {
   "cell_type": "code",
   "execution_count": 272,
   "id": "820f16f5",
   "metadata": {},
   "outputs": [],
   "source": [
    "from mpl_toolkits.mplot3d import Axes3D,axes3d"
   ]
  },
  {
   "cell_type": "code",
   "execution_count": 273,
   "id": "f9a00a85",
   "metadata": {},
   "outputs": [
    {
     "data": {
      "text/plain": [
       "<Figure size 432x288 with 0 Axes>"
      ]
     },
     "metadata": {},
     "output_type": "display_data"
    }
   ],
   "source": [
    "figure=plt.figure()"
   ]
  },
  {
   "cell_type": "code",
   "execution_count": 274,
   "id": "42cff9ee",
   "metadata": {},
   "outputs": [
    {
     "name": "stderr",
     "output_type": "stream",
     "text": [
      "C:\\Users\\WIN10~1\\AppData\\Local\\Temp/ipykernel_32716/2453019682.py:1: MatplotlibDeprecationWarning: Axes3D(fig) adding itself to the figure is deprecated since 3.4. Pass the keyword argument auto_add_to_figure=False and use fig.add_axes(ax) to suppress this warning. The default value of auto_add_to_figure will change to False in mpl3.5 and True values will no longer work in 3.6.  This is consistent with other Axes classes.\n",
      "  ax=Axes3D(figure,elev=-152,azim=-26)\n"
     ]
    },
    {
     "data": {
      "text/plain": [
       "<mpl_toolkits.mplot3d.art3d.Path3DCollection at 0x1f8df553280>"
      ]
     },
     "execution_count": 274,
     "metadata": {},
     "output_type": "execute_result"
    }
   ],
   "source": [
    "ax=Axes3D(figure,elev=-152,azim=-26)\n",
    "mask=y==0\n",
    "ax.scatter(X_new[mask,0],X_new[mask,1],X_new[mask,2],c='b',cmap=mglearn.cm2,s=60)"
   ]
  },
  {
   "cell_type": "code",
   "execution_count": 278,
   "id": "94600993",
   "metadata": {},
   "outputs": [
    {
     "name": "stderr",
     "output_type": "stream",
     "text": [
      "C:\\Users\\WIN10~1\\AppData\\Local\\Temp/ipykernel_32716/1134991247.py:3: MatplotlibDeprecationWarning: Axes3D(fig) adding itself to the figure is deprecated since 3.4. Pass the keyword argument auto_add_to_figure=False and use fig.add_axes(ax) to suppress this warning. The default value of auto_add_to_figure will change to False in mpl3.5 and True values will no longer work in 3.6.  This is consistent with other Axes classes.\n",
      "  ax=Axes3D(figure,elev=-152,azim=-26)\n"
     ]
    },
    {
     "data": {
      "text/plain": [
       "Text(0.5, 0, 'feature1 ** 2')"
      ]
     },
     "execution_count": 278,
     "metadata": {},
     "output_type": "execute_result"
    },
    {
     "data": {
      "image/png": "[encoded data removed]",
      "text/plain": [
       "<Figure size 432x288 with 1 Axes>"
      ]
     },
     "metadata": {
      "needs_background": "light"
     },
     "output_type": "display_data"
    }
   ],
   "source": [
    "X_new=np.hstack([x,x[:,1:]**2])\n",
    "figure=plt.figure()\n",
    "ax=Axes3D(figure,elev=-152,azim=-26)\n",
    "ax.scatter(X_new[~mask,0],X_new[~mask,1],X_new[~mask,2],c='r',marker='^', cmap=mglearn.cm2,s=60)\n",
    "ax.scatter(X_new[mask,0],X_new[mask,1],X_new[mask,2],c='b',cmap=mglearn.cm2,s=60)\n",
    "ax.set_xlabel(\"feature0\")\n",
    "ax.set_ylabel(\"feature1\")\n",
    "ax.set_zlabel(\"feature1 ** 2\")\n"
   ]
  },
  {
   "cell_type": "code",
   "execution_count": 279,
   "id": "b9de039d",
   "metadata": {},
   "outputs": [
    {
     "name": "stderr",
     "output_type": "stream",
     "text": [
      "C:\\anaconda\\lib\\site-packages\\sklearn\\svm\\_base.py:1225: ConvergenceWarning: Liblinear failed to converge, increase the number of iterations.\n",
      "  warnings.warn(\n"
     ]
    }
   ],
   "source": [
    "linearsvm=LinearSVC().fit(X_new,y)\n",
    "coef,intercept=linearsvm.coef_.ravel(),linearsvm.intercept_\n",
    "\n"
   ]
  },
  {
   "cell_type": "code",
   "execution_count": 286,
   "id": "f089800e",
   "metadata": {},
   "outputs": [
    {
     "name": "stderr",
     "output_type": "stream",
     "text": [
      "C:\\Users\\WIN10~1\\AppData\\Local\\Temp/ipykernel_32716/1326082105.py:3: MatplotlibDeprecationWarning: Axes3D(fig) adding itself to the figure is deprecated since 3.4. Pass the keyword argument auto_add_to_figure=False and use fig.add_axes(ax) to suppress this warning. The default value of auto_add_to_figure will change to False in mpl3.5 and True values will no longer work in 3.6.  This is consistent with other Axes classes.\n",
      "  ax = Axes3D(figure, elev=-152, azim=-26)\n"
     ]
    }
   ],
   "source": [
    "xx=np.linspace(X_new[:,0].min()-2,X_new[:,0].max()+2,50)\n",
    "yy=np.linspace(X_new[:,1].min()-2,X_new[:,1].max()+2,50)\n",
    "ax = Axes3D(figure, elev=-152, azim=-26)\n",
    "\n"
   ]
  },
  {
   "cell_type": "code",
   "execution_count": 289,
   "id": "4c775073",
   "metadata": {},
   "outputs": [
    {
     "name": "stderr",
     "output_type": "stream",
     "text": [
      "C:\\anaconda\\lib\\site-packages\\sklearn\\svm\\_base.py:1225: ConvergenceWarning: Liblinear failed to converge, increase the number of iterations.\n",
      "  warnings.warn(\n",
      "C:\\Users\\WIN10~1\\AppData\\Local\\Temp/ipykernel_32716/49093008.py:5: MatplotlibDeprecationWarning: Axes3D(fig) adding itself to the figure is deprecated since 3.4. Pass the keyword argument auto_add_to_figure=False and use fig.add_axes(ax) to suppress this warning. The default value of auto_add_to_figure will change to False in mpl3.5 and True values will no longer work in 3.6.  This is consistent with other Axes classes.\n",
      "  ax = Axes3D(figure, elev=-152, azim=-26)\n"
     ]
    },
    {
     "data": {
      "text/plain": [
       "Text(0.5, 0, 'feature0 ** 2')"
      ]
     },
     "execution_count": 289,
     "metadata": {},
     "output_type": "execute_result"
    },
    {
     "data": {
      "image/png": "[encoded data removed]",
      "text/plain": [
       "<Figure size 432x288 with 1 Axes>"
      ]
     },
     "metadata": {
      "needs_background": "light"
     },
     "output_type": "display_data"
    }
   ],
   "source": [
    "linear_svm_3d = LinearSVC().fit(X_new, y)\n",
    "coef, intercept = linear_svm_3d.coef_.ravel(), linear_svm_3d.intercept_\n",
    "# show linear decision boundary\n",
    "figure = plt.figure()\n",
    "ax = Axes3D(figure, elev=-152, azim=-26)\n",
    "xx = np.linspace(X_new[:, 0].min() - 2, X_new[:, 0].max() + 2, 50)\n",
    "yy = np.linspace(X_new[:, 1].min() - 2, X_new[:, 1].max() + 2, 50)\n",
    "XX, YY = np.meshgrid(xx, yy)\n",
    "ZZ = (coef[0] * XX + coef[1] * YY + intercept) / -coef[2]\n",
    "ax.plot_surface(XX, YY, ZZ, rstride=8, cstride=8, alpha=0.3)\n",
    "ax.scatter(X_new[mask, 0], X_new[mask, 1], X_new[mask, 2], c='b',\n",
    " cmap=mglearn.cm2, s=60)\n",
    "ax.scatter(X_new[~mask, 0], X_new[~mask, 1], X_new[~mask, 2], c='r', marker='^',\n",
    " cmap=mglearn.cm2, s=60)\n",
    "ax.set_xlabel(\"feature0\")\n",
    "ax.set_ylabel(\"feature1\")\n",
    "ax.set_zlabel(\"feature0 ** 2\")"
   ]
  },
  {
   "cell_type": "code",
   "execution_count": 290,
   "id": "aef3a216",
   "metadata": {},
   "outputs": [
    {
     "data": {
      "text/plain": [
       "Text(0, 0.5, 'F1')"
      ]
     },
     "execution_count": 290,
     "metadata": {},
     "output_type": "execute_result"
    },
    {
     "data": {
      "image/png": "[encoded data removed]",
      "text/plain": [
       "<Figure size 432x288 with 1 Axes>"
      ]
     },
     "metadata": {},
     "output_type": "display_data"
    }
   ],
   "source": [
    "from sklearn.svm import SVC\n",
    "x,y=mglearn.tools.make_handcrafted_dataset()\n",
    "svm=SVC(kernel='rbf',C=10,gamma=0.1).fit(x,y)\n",
    "mglearn.plots.plot_2d_separator(svm,x,eps=0.5)\n",
    "mglearn.discrete_scatter(x[:,0],x[:,1],y)\n",
    "sv=svm.support_vectors_\n",
    "sv_l=svm.dual_coef_.ravel()>0\n",
    "mglearn.discrete_scatter(sv[:,0],sv[:,1],sv_l,s=15,markeredgewidth=3)\n",
    "plt.xlabel(\"F0\")\n",
    "plt.ylabel(\"F1\")\n",
    "\n"
   ]
  },
  {
   "cell_type": "code",
   "execution_count": 291,
   "id": "21c96766",
   "metadata": {},
   "outputs": [
    {
     "name": "stdout",
     "output_type": "stream",
     "text": [
      "0.903755868544601 0.9370629370629371\n"
     ]
    }
   ],
   "source": [
    "xtr,xte,ytr,yte=train_test_split(cancer.data,cancer.target,random_state=0)\n",
    "svm=SVC()\n",
    "svm.fit(xtr,ytr)\n",
    "\n",
    "print(svm.score(xtr,ytr),svm.score(xte,yte))"
   ]
  },
  {
   "cell_type": "code",
   "execution_count": 292,
   "id": "1b181b03",
   "metadata": {},
   "outputs": [],
   "source": [
    "minon=xtr.min(axis=0)\n",
    "ran=(xtr-minon).max(axis=0)"
   ]
  },
  {
   "cell_type": "code",
   "execution_count": 293,
   "id": "1ea4fe83",
   "metadata": {},
   "outputs": [
    {
     "name": "stdout",
     "output_type": "stream",
     "text": [
      "[0. 0. 0. 0. 0. 0. 0. 0. 0. 0. 0. 0. 0. 0. 0. 0. 0. 0. 0. 0. 0. 0. 0. 0.\n",
      " 0. 0. 0. 0. 0. 0.] [1. 1. 1. 1. 1. 1. 1. 1. 1. 1. 1. 1. 1. 1. 1. 1. 1. 1. 1. 1. 1. 1. 1. 1.\n",
      " 1. 1. 1. 1. 1. 1.]\n"
     ]
    }
   ],
   "source": [
    "xtrscaled=(xtr-minon)/ran\n",
    "print(xtrscaled.min(axis=0),xtrscaled.max(axis=0))"
   ]
  },
  {
   "cell_type": "code",
   "execution_count": null,
   "id": "5a88fc35",
   "metadata": {},
   "outputs": [],
   "source": []
  },
  {
   "cell_type": "code",
   "execution_count": 306,
   "id": "8b836e3c",
   "metadata": {},
   "outputs": [
    {
     "name": "stderr",
     "output_type": "stream",
     "text": [
      "C:\\anaconda\\lib\\site-packages\\sklearn\\neural_network\\_multilayer_perceptron.py:702: ConvergenceWarning: Stochastic Optimizer: Maximum iterations (200) reached and the optimization hasn't converged yet.\n",
      "  warnings.warn(\n"
     ]
    }
   ],
   "source": [
    "x,y=make_moons(n_samples=100,noise=0.25,random_state=3)\n",
    "xtr,xte,ytr,yte=train_test_split(x,y,stratify=y,random_state=0)\n",
    "from sklearn.neural_network import MLPClassifier\n",
    "mlp=MLPClassifier(random_state=0).fit(xtr,ytr)\n",
    "\n"
   ]
  },
  {
   "cell_type": "code",
   "execution_count": 302,
   "id": "cff4bc8b",
   "metadata": {},
   "outputs": [
    {
     "name": "stderr",
     "output_type": "stream",
     "text": [
      "C:\\anaconda\\lib\\site-packages\\sklearn\\neural_network\\_multilayer_perceptron.py:702: ConvergenceWarning: Stochastic Optimizer: Maximum iterations (200) reached and the optimization hasn't converged yet.\n",
      "  warnings.warn(\n",
      "C:\\anaconda\\lib\\site-packages\\sklearn\\neural_network\\_multilayer_perceptron.py:702: ConvergenceWarning: Stochastic Optimizer: Maximum iterations (200) reached and the optimization hasn't converged yet.\n",
      "  warnings.warn(\n",
      "C:\\anaconda\\lib\\site-packages\\sklearn\\neural_network\\_multilayer_perceptron.py:702: ConvergenceWarning: Stochastic Optimizer: Maximum iterations (200) reached and the optimization hasn't converged yet.\n",
      "  warnings.warn(\n",
      "C:\\anaconda\\lib\\site-packages\\sklearn\\neural_network\\_multilayer_perceptron.py:702: ConvergenceWarning: Stochastic Optimizer: Maximum iterations (200) reached and the optimization hasn't converged yet.\n",
      "  warnings.warn(\n",
      "C:\\anaconda\\lib\\site-packages\\sklearn\\neural_network\\_multilayer_perceptron.py:702: ConvergenceWarning: Stochastic Optimizer: Maximum iterations (200) reached and the optimization hasn't converged yet.\n",
      "  warnings.warn(\n",
      "C:\\anaconda\\lib\\site-packages\\sklearn\\neural_network\\_multilayer_perceptron.py:702: ConvergenceWarning: Stochastic Optimizer: Maximum iterations (200) reached and the optimization hasn't converged yet.\n",
      "  warnings.warn(\n",
      "C:\\anaconda\\lib\\site-packages\\sklearn\\neural_network\\_multilayer_perceptron.py:702: ConvergenceWarning: Stochastic Optimizer: Maximum iterations (200) reached and the optimization hasn't converged yet.\n",
      "  warnings.warn(\n",
      "C:\\anaconda\\lib\\site-packages\\sklearn\\neural_network\\_multilayer_perceptron.py:702: ConvergenceWarning: Stochastic Optimizer: Maximum iterations (200) reached and the optimization hasn't converged yet.\n",
      "  warnings.warn(\n"
     ]
    },
    {
     "data": {
      "text/plain": [
       "Text(0.5, 1.0, 'n_hidden=[100, 100]\\nalpha=1.0000')"
      ]
     },
     "execution_count": 302,
     "metadata": {},
     "output_type": "execute_result"
    },
    {
     "data": {
      "image/png": "[encoded data removed]",
      "text/plain": [
       "<Figure size 1440x576 with 8 Axes>"
      ]
     },
     "metadata": {},
     "output_type": "display_data"
    }
   ],
   "source": [
    "fig,axes=plt.subplots(2,4,figsize=(20,8))\n",
    "for axx,n in zip(axes,[10,100]):\n",
    "    for ax,alpha in zip(axx,[0.0001,0.01,0.1,1]):\n",
    "        mlp=MLPClassifier(random_state=0,hidden_layer_sizes=[n,n],alpha=alpha).fit(xtr,ytr)\n",
    "        mglearn.plots.plot_2d_separator(mlp, x, fill=True, alpha=.3, ax=ax)\n",
    "mglearn.discrete_scatter(xtr[:, 0], xtr[:, 1], ytr, ax=ax)\n",
    "ax.set_title(\"n_hidden=[{}, {}]\\nalpha={:.4f}\".format(\n",
    " n, n, alpha))\n",
    "\n"
   ]
  },
  {
   "cell_type": "code",
   "execution_count": 304,
   "id": "c937e950",
   "metadata": {},
   "outputs": [
    {
     "name": "stdout",
     "output_type": "stream",
     "text": [
      "0.9333333333333333 0.92\n"
     ]
    }
   ],
   "source": [
    "mlp=MLPClassifier(max_iter=10000,random_state=0)\n",
    "mlp.fit(xtr,ytr)\n",
    "print(mlp.score(xtr,ytr),mlp.score(xte,yte))"
   ]
  },
  {
   "cell_type": "code",
   "execution_count": 308,
   "id": "4ce3035f",
   "metadata": {},
   "outputs": [],
   "source": [
    "from sklearn.datasets import load_iris\n",
    "iris=load_iris()\n",
    "xtr,xte,ytr,yte=train_test_split(iris.data,iris.target,random_state=0)\n",
    "gbrt=GradientBoostingClassifier(learning_rate=0.01,random_state=0).fit(xtr,ytr)\n"
   ]
  },
  {
   "cell_type": "code",
   "execution_count": 312,
   "id": "f8b9e729",
   "metadata": {},
   "outputs": [
    {
     "name": "stdout",
     "output_type": "stream",
     "text": [
      "[[0.10122859 0.09437615 0.80439526]\n",
      " [0.10582615 0.77977861 0.11439524]\n",
      " [0.79076534 0.09685557 0.11237909]\n",
      " [0.10122783 0.09437623 0.80439594]\n",
      " [0.79076534 0.09685557 0.11237909]\n",
      " [0.10122859 0.09437615 0.80439526]]\n",
      "[2 1 0 2 0 2 0 1 1 1 2 1 1 1 1 0 1 1 0 0 2 1 0 0 2 0 0 1 1 0 2 1 0 2 2 1 0\n",
      " 2]\n"
     ]
    }
   ],
   "source": [
    "print(gbrt.predict_proba(xte)[:6,:])\n",
    "print(gbrt.predict(xte))\n"
   ]
  },
  {
   "cell_type": "code",
   "execution_count": null,
   "id": "3cc5d0ac",
   "metadata": {},
   "outputs": [],
   "source": []
  }
 ],
 "metadata": {
  "kernelspec": {
   "display_name": "Python 3 (ipykernel)",
   "language": "python",
   "name": "python3"
  },
  "language_info": {
   "codemirror_mode": {
    "name": "ipython",
    "version": 3
   },
   "file_extension": ".py",
   "mimetype": "text/x-python",
   "name": "python",
   "nbconvert_exporter": "python",
   "pygments_lexer": "ipython3",
   "version": "3.9.7"
  }
 },
 "nbformat": 4,
 "nbformat_minor": 5
}
